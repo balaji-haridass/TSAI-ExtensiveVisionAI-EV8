{
  "nbformat": 4,
  "nbformat_minor": 0,
  "metadata": {
    "colab": {
      "provenance": []
    },
    "kernelspec": {
      "name": "python3",
      "display_name": "Python 3"
    },
    "accelerator": "GPU",
    "gpuClass": "standard"
  },
  "cells": [
    {
      "cell_type": "markdown",
      "source": [
        "\n",
        "## Problem Statement\n",
        "\n",
        "- Write a single model.py file that includes GN/LN/BN and takes an argument to decide which normalization to include\n",
        "- Write a single notebook file to run all the 3 models above for 20 epochs each\n",
        "- Create these graphs:\n",
        "  Graph 1: Test/Validation Loss for all 3 models together\n",
        "  Graph 2: Test/Validation Accuracy for 3 models together\n",
        "  graphs must have proper annotation\n",
        "\n",
        "- Find 10 misclassified images for each of the 3 models, and show them as a 5x2 image matrix in 3 separately annotated images. "
      ],
      "metadata": {
        "id": "aJQ7PTNBwYio"
      }
    },
    {
      "cell_type": "markdown",
      "source": [
        "# Import Libraries"
      ],
      "metadata": {
        "id": "JiDBqSWLy4S7"
      }
    },
    {
      "cell_type": "code",
      "metadata": {
        "id": "0m2JWFliFfKT"
      },
      "source": [
        "# import all the required torch functions\n",
        "from __future__ import print_function\n",
        "import torch\n",
        "import torch.nn as nn\n",
        "import torch.nn.functional as F\n",
        "import torch.optim as optim\n",
        "from torchvision import datasets, transforms\n",
        "\n",
        "from definitions import *"
      ],
      "execution_count": 14,
      "outputs": []
    },
    {
      "cell_type": "markdown",
      "source": [
        "\n",
        "# Include Data Transformations\n",
        "\n",
        "- We first start with defining our data transformations.\n",
        "- We need to think what our data is and how can we augment it to represent  represent correctly which it might not see otherwise. "
      ],
      "metadata": {
        "id": "zBdJxtnmxhsU"
      }
    },
    {
      "cell_type": "code",
      "source": [
        "# Train Phase transformations\n",
        "train_transforms = transforms.Compose([\n",
        "                            #  transforms.Resize((28, 28)),\n",
        "                            #  transforms.ColorJitter(brightness=0.10, contrast=0.1, saturation=0.10, hue=0.1),\n",
        "                            transforms.RandomRotation((-10.0, 10.0), fill=(1,)),\n",
        "                            transforms.ToTensor(),\n",
        "                            transforms.Normalize((0.1307,), (0.3081,)) # The mean and std have to be sequences (e.g., tuples), therefore you should add a comma after the values. \n",
        "                            # Note the difference between (0.1307) and (0.1307,)\n",
        "                        ])\n",
        "\n",
        "# Test Phase transformations\n",
        "test_transforms = transforms.Compose([\n",
        "                            #  transforms.Resize((28, 28)),\n",
        "                            #  transforms.ColorJitter(brightness=0.10, contrast=0.1, saturation=0.10, hue=0.1),\n",
        "                            transforms.ToTensor(),\n",
        "                            transforms.Normalize((0.1307,), (0.3081,))\n",
        "                        ])"
      ],
      "metadata": {
        "id": "zlNdaa4FzCP-"
      },
      "execution_count": 15,
      "outputs": []
    },
    {
      "cell_type": "markdown",
      "source": [
        "# Dataset and Creating Train/Test Split"
      ],
      "metadata": {
        "id": "ZZlMLiljzGJm"
      }
    },
    {
      "cell_type": "code",
      "source": [
        "train = datasets.MNIST('./data', train=True, download=True, transform=train_transforms)\n",
        "test = datasets.MNIST('./data', train=False, download=True, transform=test_transforms)"
      ],
      "metadata": {
        "id": "wa7KdPfCzLJc"
      },
      "execution_count": 16,
      "outputs": []
    },
    {
      "cell_type": "markdown",
      "source": [
        "# Check for GPU availability"
      ],
      "metadata": {
        "id": "1hHiUa_v0d90"
      }
    },
    {
      "cell_type": "code",
      "source": [
        "SEED = 1\n",
        "\n",
        "# CUDA? Check for GPU availability\n",
        "cuda = torch.cuda.is_available()\n",
        "print(\"CUDA Available?\", cuda)\n",
        "\n",
        "# Setup Seed, for reproducibility\n",
        "torch.manual_seed(SEED)\n",
        "\n",
        "if cuda:\n",
        "    torch.cuda.manual_seed(SEED)"
      ],
      "metadata": {
        "colab": {
          "base_uri": "https://localhost:8080/"
        },
        "id": "MjpXhFWt0gls",
        "outputId": "8969bf57-0477-4e7a-e913-6a107dcd672c"
      },
      "execution_count": 17,
      "outputs": [
        {
          "output_type": "stream",
          "name": "stdout",
          "text": [
            "CUDA Available? True\n"
          ]
        }
      ]
    },
    {
      "cell_type": "markdown",
      "source": [
        "# Dataloader Arguments & Test/Train Dataloaders"
      ],
      "metadata": {
        "id": "WL-4GlmozcFb"
      }
    },
    {
      "cell_type": "code",
      "source": [
        "# dataloader arguments - something you'll fetch these from cmdprmt\n",
        "dataloader_args = dict(shuffle=True, batch_size=128, num_workers=4, pin_memory=True) if cuda else dict(shuffle=True, batch_size=64)\n",
        "\n",
        "# train dataloader\n",
        "train_loader = torch.utils.data.DataLoader(train, **dataloader_args)\n",
        "\n",
        "# test dataloader\n",
        "test_loader = torch.utils.data.DataLoader(test, **dataloader_args)"
      ],
      "metadata": {
        "id": "DiyHHhXnzgWy",
        "colab": {
          "base_uri": "https://localhost:8080/"
        },
        "outputId": "1abdbc06-bc7c-4301-f8da-697e3289712c"
      },
      "execution_count": 18,
      "outputs": [
        {
          "output_type": "stream",
          "name": "stderr",
          "text": [
            "/usr/local/lib/python3.8/dist-packages/torch/utils/data/dataloader.py:554: UserWarning: This DataLoader will create 4 worker processes in total. Our suggested max number of worker in current system is 2, which is smaller than what this DataLoader is going to create. Please be aware that excessive worker creation might get DataLoader running slow or even freeze, lower the worker number to avoid potential slowness/freeze if necessary.\n",
            "  warnings.warn(_create_warning_msg(\n"
          ]
        }
      ]
    },
    {
      "cell_type": "markdown",
      "source": [
        "# The Model\n",
        "\n",
        "- Let's import the model with configurable normalization layers incldued"
      ],
      "metadata": {
        "id": "9nUBpjxW1D-O"
      }
    },
    {
      "cell_type": "code",
      "source": [
        "from model import Net"
      ],
      "metadata": {
        "id": "HmdWqGRDG7wA"
      },
      "execution_count": 19,
      "outputs": []
    },
    {
      "cell_type": "markdown",
      "source": [
        "# Check GPU Availability"
      ],
      "metadata": {
        "id": "STL2HFec2HRn"
      }
    },
    {
      "cell_type": "code",
      "metadata": {
        "id": "xdydjYTZFyi3"
      },
      "source": [
        "# Once we have GPU ready to access, the next step is getting PyTorch to use for storing data (tensors) and computing on data (performing operations on tensors).\n",
        "# test if PyTorch has access to a GPU\n",
        "use_cuda = torch.cuda.is_available()\n",
        "\n",
        "# if GPU is availble use it, if not use CPU. allocate device and assign n/w to it\n",
        "device = torch.device(\"cuda\" if use_cuda else \"cpu\")"
      ],
      "execution_count": 20,
      "outputs": []
    },
    {
      "cell_type": "markdown",
      "source": [],
      "metadata": {
        "id": "A7m_FEor277b"
      }
    },
    {
      "cell_type": "markdown",
      "source": [
        "# Model Summaries"
      ],
      "metadata": {
        "id": "HYI5wSPpbo9W"
      }
    },
    {
      "cell_type": "code",
      "source": [
        "!pip install torchsummary\n",
        "from torchsummary import summary\n",
        "\n",
        "# Check all model Summaries\n",
        "norm_options = [NormType.BATCH_NORM, NormType.LAYER_NORM, NormType.GROUP_NORM]\n",
        "\n",
        "for norm in norm_options:\n",
        "  \n",
        "  print(f\"\\nModel Summary with NormalizationType => { norm }\\n\")\n",
        "  \n",
        "  # Create model instance with required params\n",
        "  model = Net(norm_type=norm).to(device)\n",
        "\n",
        "  # Check model summary\n",
        "  summary(model, input_size=(1, 28, 28))"
      ],
      "metadata": {
        "colab": {
          "base_uri": "https://localhost:8080/"
        },
        "id": "fmGJN3VpbQBN",
        "outputId": "2419ce8d-b8da-4fa9-df98-5fba9f139140"
      },
      "execution_count": 21,
      "outputs": [
        {
          "output_type": "stream",
          "name": "stdout",
          "text": [
            "Looking in indexes: https://pypi.org/simple, https://us-python.pkg.dev/colab-wheels/public/simple/\n",
            "Requirement already satisfied: torchsummary in /usr/local/lib/python3.8/dist-packages (1.5.1)\n",
            "\n",
            "Model Summary with NormalizationType => NormType.BATCH_NORM\n",
            "\n",
            "----------------------------------------------------------------\n",
            "        Layer (type)               Output Shape         Param #\n",
            "================================================================\n",
            "            Conv2d-1            [-1, 8, 26, 26]              72\n",
            "              ReLU-2            [-1, 8, 26, 26]               0\n",
            "       BatchNorm2d-3            [-1, 8, 26, 26]              16\n",
            "           Dropout-4            [-1, 8, 26, 26]               0\n",
            "            Conv2d-5           [-1, 15, 24, 24]           1,080\n",
            "              ReLU-6           [-1, 15, 24, 24]               0\n",
            "       BatchNorm2d-7           [-1, 15, 24, 24]              30\n",
            "           Dropout-8           [-1, 15, 24, 24]               0\n",
            "            Conv2d-9           [-1, 15, 24, 24]             225\n",
            "        MaxPool2d-10           [-1, 15, 12, 12]               0\n",
            "           Conv2d-11           [-1, 15, 10, 10]           2,025\n",
            "             ReLU-12           [-1, 15, 10, 10]               0\n",
            "      BatchNorm2d-13           [-1, 15, 10, 10]              30\n",
            "          Dropout-14           [-1, 15, 10, 10]               0\n",
            "           Conv2d-15             [-1, 15, 8, 8]           2,025\n",
            "             ReLU-16             [-1, 15, 8, 8]               0\n",
            "      BatchNorm2d-17             [-1, 15, 8, 8]              30\n",
            "          Dropout-18             [-1, 15, 8, 8]               0\n",
            "           Conv2d-19             [-1, 15, 6, 6]           2,025\n",
            "             ReLU-20             [-1, 15, 6, 6]               0\n",
            "      BatchNorm2d-21             [-1, 15, 6, 6]              30\n",
            "          Dropout-22             [-1, 15, 6, 6]               0\n",
            "        AvgPool2d-23             [-1, 15, 1, 1]               0\n",
            "           Conv2d-24             [-1, 10, 1, 1]             150\n",
            "================================================================\n",
            "Total params: 7,738\n",
            "Trainable params: 7,738\n",
            "Non-trainable params: 0\n",
            "----------------------------------------------------------------\n",
            "Input size (MB): 0.00\n",
            "Forward/backward pass size (MB): 0.60\n",
            "Params size (MB): 0.03\n",
            "Estimated Total Size (MB): 0.64\n",
            "----------------------------------------------------------------\n",
            "\n",
            "Model Summary with NormalizationType => NormType.LAYER_NORM\n",
            "\n",
            "----------------------------------------------------------------\n",
            "        Layer (type)               Output Shape         Param #\n",
            "================================================================\n",
            "            Conv2d-1            [-1, 8, 26, 26]              72\n",
            "              ReLU-2            [-1, 8, 26, 26]               0\n",
            "         LayerNorm-3            [-1, 8, 26, 26]               0\n",
            "           Dropout-4            [-1, 8, 26, 26]               0\n",
            "            Conv2d-5           [-1, 15, 24, 24]           1,080\n",
            "              ReLU-6           [-1, 15, 24, 24]               0\n",
            "         LayerNorm-7           [-1, 15, 24, 24]               0\n",
            "           Dropout-8           [-1, 15, 24, 24]               0\n",
            "            Conv2d-9           [-1, 15, 24, 24]             225\n",
            "        MaxPool2d-10           [-1, 15, 12, 12]               0\n",
            "           Conv2d-11           [-1, 15, 10, 10]           2,025\n",
            "             ReLU-12           [-1, 15, 10, 10]               0\n",
            "        LayerNorm-13           [-1, 15, 10, 10]               0\n",
            "          Dropout-14           [-1, 15, 10, 10]               0\n",
            "           Conv2d-15             [-1, 15, 8, 8]           2,025\n",
            "             ReLU-16             [-1, 15, 8, 8]               0\n",
            "        LayerNorm-17             [-1, 15, 8, 8]               0\n",
            "          Dropout-18             [-1, 15, 8, 8]               0\n",
            "           Conv2d-19             [-1, 15, 6, 6]           2,025\n",
            "             ReLU-20             [-1, 15, 6, 6]               0\n",
            "        LayerNorm-21             [-1, 15, 6, 6]               0\n",
            "          Dropout-22             [-1, 15, 6, 6]               0\n",
            "        AvgPool2d-23             [-1, 15, 1, 1]               0\n",
            "           Conv2d-24             [-1, 10, 1, 1]             150\n",
            "================================================================\n",
            "Total params: 7,602\n",
            "Trainable params: 7,602\n",
            "Non-trainable params: 0\n",
            "----------------------------------------------------------------\n",
            "Input size (MB): 0.00\n",
            "Forward/backward pass size (MB): 0.60\n",
            "Params size (MB): 0.03\n",
            "Estimated Total Size (MB): 0.63\n",
            "----------------------------------------------------------------\n",
            "\n",
            "Model Summary with NormalizationType => NormType.GROUP_NORM\n",
            "\n",
            "----------------------------------------------------------------\n",
            "        Layer (type)               Output Shape         Param #\n",
            "================================================================\n",
            "            Conv2d-1            [-1, 8, 26, 26]              72\n",
            "              ReLU-2            [-1, 8, 26, 26]               0\n",
            "         GroupNorm-3            [-1, 8, 26, 26]              16\n",
            "           Dropout-4            [-1, 8, 26, 26]               0\n",
            "            Conv2d-5           [-1, 15, 24, 24]           1,080\n",
            "              ReLU-6           [-1, 15, 24, 24]               0\n",
            "         GroupNorm-7           [-1, 15, 24, 24]              30\n",
            "           Dropout-8           [-1, 15, 24, 24]               0\n",
            "            Conv2d-9           [-1, 15, 24, 24]             225\n",
            "        MaxPool2d-10           [-1, 15, 12, 12]               0\n",
            "           Conv2d-11           [-1, 15, 10, 10]           2,025\n",
            "             ReLU-12           [-1, 15, 10, 10]               0\n",
            "        GroupNorm-13           [-1, 15, 10, 10]              30\n",
            "          Dropout-14           [-1, 15, 10, 10]               0\n",
            "           Conv2d-15             [-1, 15, 8, 8]           2,025\n",
            "             ReLU-16             [-1, 15, 8, 8]               0\n",
            "        GroupNorm-17             [-1, 15, 8, 8]              30\n",
            "          Dropout-18             [-1, 15, 8, 8]               0\n",
            "           Conv2d-19             [-1, 15, 6, 6]           2,025\n",
            "             ReLU-20             [-1, 15, 6, 6]               0\n",
            "        GroupNorm-21             [-1, 15, 6, 6]              30\n",
            "          Dropout-22             [-1, 15, 6, 6]               0\n",
            "        AvgPool2d-23             [-1, 15, 1, 1]               0\n",
            "           Conv2d-24             [-1, 10, 1, 1]             150\n",
            "================================================================\n",
            "Total params: 7,738\n",
            "Trainable params: 7,738\n",
            "Non-trainable params: 0\n",
            "----------------------------------------------------------------\n",
            "Input size (MB): 0.00\n",
            "Forward/backward pass size (MB): 0.60\n",
            "Params size (MB): 0.03\n",
            "Estimated Total Size (MB): 0.64\n",
            "----------------------------------------------------------------\n"
          ]
        }
      ]
    },
    {
      "cell_type": "markdown",
      "source": [
        "# Training and Testing\n",
        "\n",
        "- Looking at logs can be boring, so we'll introduce **tqdm** progressbar to get cooler logs. \n",
        "- Let's write train and test functions"
      ],
      "metadata": {
        "id": "RYr9KlRCbW9F"
      }
    },
    {
      "cell_type": "code",
      "metadata": {
        "id": "8fDefDhaFlwH"
      },
      "source": [
        "# define train & test APIs\n",
        "\n",
        "# Tqdm is a library in Python which is used for creating Progress Meters or Progress Bars.\n",
        "from tqdm import tqdm\n",
        "\n",
        "train_losses = []\n",
        "test_losses = []\n",
        "train_acc = []\n",
        "test_acc = []\n",
        "\n",
        "def train(model, device, train_loader, optimizer, regularizer_lambda=0.01, regularizer_type=RegularizerType.NONE):\n",
        "  \n",
        "  model.train() # set the model with training mode (this is the default mode)\n",
        "\n",
        "  pbar = tqdm(train_loader)\n",
        "  correct = 0\n",
        "  processed = 0\n",
        "  for batch_idx, (data, target) in enumerate(pbar):\n",
        "    # get samples\n",
        "    data, target = data.to(device), target.to(device)\n",
        "\n",
        "    # Init. \n",
        "    optimizer.zero_grad()\n",
        "    # In PyTorch, we need to set the gradients to zero before starting to do backpropragation because PyTorch accumulates the gradients on subsequent backward passes. \n",
        "    # Because of this, when you start your training loop, ideally you should zero out the gradients so that you do the parameter update correctly.\n",
        "\n",
        "    # Predict. \n",
        "    y_pred = model(data)\n",
        "\n",
        "    # Calculate model prediction loss\n",
        "    loss = F.nll_loss(y_pred, target)\n",
        "\n",
        "    # Handle for L1 loss\n",
        "    if RegularizerType.L1 == regularizer_type:\n",
        "      l1 = 0\n",
        "      for p in model.parameters():\n",
        "        # absolute sum of all weights\n",
        "        l1 += p.abs().sum()\n",
        "      \n",
        "      # Total loss is sum of model prediction loss + L1 loss\n",
        "      loss += (regularizer_lambda * l1)\n",
        "\n",
        "    train_losses.append(loss)\n",
        "\n",
        "    # Backpropagation\n",
        "    loss.backward()\n",
        "    optimizer.step()\n",
        "\n",
        "    # Update pbar-tqdm\n",
        "    \n",
        "    pred = y_pred.argmax(dim=1, keepdim=True)  # get the index of the max log-probability\n",
        "    correct += pred.eq(target.view_as(pred)).sum().item()\n",
        "    processed += len(data)\n",
        "\n",
        "    pbar.set_description(desc= f'Loss={loss.item()} Batch_id={batch_idx} Accuracy={100*correct/processed:0.2f}')\n",
        "    train_acc.append(100*correct/processed)\n",
        "\n",
        "  return 100*correct/processed\n",
        "\n",
        "def test(model, device, test_loader):\n",
        "    model.eval()\n",
        "    test_loss = 0\n",
        "    correct = 0\n",
        "    with torch.no_grad():\n",
        "        for data, target in test_loader:\n",
        "            data, target = data.to(device), target.to(device)\n",
        "            output = model(data)\n",
        "            test_loss += F.nll_loss(output, target, reduction='sum').item()  # sum up batch loss\n",
        "            pred = output.argmax(dim=1, keepdim=True)  # get the index of the max log-probability\n",
        "            correct += pred.eq(target.view_as(pred)).sum().item()\n",
        "\n",
        "    test_loss /= len(test_loader.dataset)\n",
        "    test_losses.append(test_loss)\n",
        "\n",
        "    print('\\nTest set: Average loss: {:.4f}, Accuracy: {}/{} ({:.2f}%)\\n'.format(\n",
        "        test_loss, correct, len(test_loader.dataset),\n",
        "        100. * correct / len(test_loader.dataset)))\n",
        "    \n",
        "    test_acc.append(100. * correct / len(test_loader.dataset))\n",
        "\n",
        "    return 100. * correct / len(test_loader.dataset)\n"
      ],
      "execution_count": 22,
      "outputs": []
    },
    {
      "cell_type": "code",
      "source": [
        "# Invoke train & evaluate the model \n",
        "\n",
        "from torch.optim.lr_scheduler import StepLR\n",
        "\n",
        "def train_test_model(model, epochs=20, regularizer_lambda=0.01, regularizer_type=RegularizerType.NONE):\n",
        "\n",
        "  # create an optimizer (SGD) with required parameters, \n",
        "  # model.parameters() - these are the model parameters to optimize, \n",
        "  # learning-rate lr=0.01 and momentum-0.9\n",
        "  optimizer = optim.SGD(model.parameters(), lr=0.05, momentum=0.9)\n",
        "  scheduler = StepLR(optimizer, step_size=6, gamma=0.5)\n",
        "\n",
        "  prev_train_acc = -1\n",
        "  prev_test_acc = -1\n",
        "  train_accuracy = 0\n",
        "  test_accuracy = 0\n",
        "\n",
        "  # run single epoch as of now.\n",
        "  for epoch in range(epochs):\n",
        "      print(f'Epoch: {epoch+1}')\n",
        "\n",
        "      # train the model loaded on the device with the required optimizer\n",
        "      train_accuracy = train(\n",
        "                          model, device, train_loader, \n",
        "                          optimizer,\n",
        "                          regularizer_lambda, \n",
        "                          regularizer_type)\n",
        "\n",
        "      # set to the next lr params\n",
        "      scheduler.step()\n",
        "\n",
        "      # we need to evaluate on test data\n",
        "      test_accuracy = test(model, device, test_loader)\n",
        "\n",
        "\n",
        "      # check difference from previous accuracies for better understanding\n",
        "      if -1 == prev_train_acc:\n",
        "        prev_train_acc = train_accuracy\n",
        "      if -1 == prev_test_acc:\n",
        "        prev_test_acc = test_accuracy\n",
        "\n",
        "      print(f'train_acc_diff: {train_accuracy - prev_train_acc:.3f} test_acc_diff: {test_accuracy - prev_test_acc:.3f} test_train_diff: {test_accuracy - train_accuracy:.3f}\\n')\n",
        "      prev_train_acc = train_accuracy\n",
        "      prev_test_acc = test_accuracy\n",
        "\n",
        "  # update model metric\n",
        "  model_metric = [train_losses, test_losses, train_acc, test_acc]\n",
        "  return model_metric"
      ],
      "metadata": {
        "id": "SA2ZP1ryam3n"
      },
      "execution_count": 23,
      "outputs": []
    },
    {
      "cell_type": "code",
      "source": [
        "import copy\n",
        "\n",
        "# Check all model Summaries\n",
        "norm_options = [NormType.BATCH_NORM, NormType.LAYER_NORM, NormType.GROUP_NORM]\n",
        "norm_name = [\"BATCH_NORM\", \"LAYER_NORM\", \"GROUP_NORM\"]\n",
        "\n",
        "# evaluation metrics for different models\n",
        "evaluation_metrics = {}\n",
        "model_metric = []\n",
        "\n",
        "print(f\"\\nTrain & Evaluate different model\\n\")\n",
        "\n",
        "for ndx, norm in enumerate(norm_options):\n",
        "  \n",
        "  print(f\"\\nTrain & Test Model with NormalizationType => { norm }\\n\")\n",
        "  \n",
        "  # Create model instance with required params\n",
        "  model = Net(norm_type=norm).to(device)\n",
        "\n",
        "  # Map regularizer type as per the problem statement.\n",
        "  regularizer = RegularizerType.NONE\n",
        "  if NormType.BATCH_NORM == norm:\n",
        "    regularizer = RegularizerType.NONE #To change to L1\n",
        "\n",
        "  # reset to update metics for new model training\n",
        "  train_losses = []\n",
        "  test_losses = []\n",
        "  train_acc = []\n",
        "  test_acc = []\n",
        "\n",
        "  # train the test model\n",
        "  model_metric = train_test_model(\n",
        "                        model, epochs=20, \n",
        "                        regularizer_lambda=0.01, \n",
        "                        regularizer_type=regularizer)\n",
        "\n",
        "  # update final evaluation metrics for this model\n",
        "  evaluation_metrics[norm_name[ndx]] = model_metric"
      ],
      "metadata": {
        "colab": {
          "base_uri": "https://localhost:8080/"
        },
        "id": "gbX3McnfbGT1",
        "outputId": "1ff2fc81-fd5d-4b1b-c9f1-3a839de92bcb"
      },
      "execution_count": 24,
      "outputs": [
        {
          "output_type": "stream",
          "name": "stdout",
          "text": [
            "\n",
            "Train & Evaluate different model\n",
            "\n",
            "\n",
            "Train & Test Model with NormalizationType => NormType.BATCH_NORM\n",
            "\n",
            "Epoch: 1\n"
          ]
        },
        {
          "output_type": "stream",
          "name": "stderr",
          "text": [
            "Loss=0.05957811698317528 Batch_id=468 Accuracy=92.33: 100%|██████████| 469/469 [00:21<00:00, 21.72it/s]\n"
          ]
        },
        {
          "output_type": "stream",
          "name": "stdout",
          "text": [
            "\n",
            "Test set: Average loss: 0.0944, Accuracy: 9696/10000 (96.96%)\n",
            "\n",
            "train_acc_diff: 0.000 test_acc_diff: 0.000 test_train_diff: 4.635\n",
            "\n",
            "Epoch: 2\n"
          ]
        },
        {
          "output_type": "stream",
          "name": "stderr",
          "text": [
            "Loss=0.017645055428147316 Batch_id=468 Accuracy=97.87: 100%|██████████| 469/469 [00:21<00:00, 22.28it/s]\n"
          ]
        },
        {
          "output_type": "stream",
          "name": "stdout",
          "text": [
            "\n",
            "Test set: Average loss: 0.0499, Accuracy: 9830/10000 (98.30%)\n",
            "\n",
            "train_acc_diff: 5.542 test_acc_diff: 1.340 test_train_diff: 0.433\n",
            "\n",
            "Epoch: 3\n"
          ]
        },
        {
          "output_type": "stream",
          "name": "stderr",
          "text": [
            "Loss=0.050121840089559555 Batch_id=468 Accuracy=98.27: 100%|██████████| 469/469 [00:17<00:00, 26.47it/s]\n"
          ]
        },
        {
          "output_type": "stream",
          "name": "stdout",
          "text": [
            "\n",
            "Test set: Average loss: 0.0362, Accuracy: 9887/10000 (98.87%)\n",
            "\n",
            "train_acc_diff: 0.402 test_acc_diff: 0.570 test_train_diff: 0.602\n",
            "\n",
            "Epoch: 4\n"
          ]
        },
        {
          "output_type": "stream",
          "name": "stderr",
          "text": [
            "Loss=0.10766615718603134 Batch_id=468 Accuracy=98.43: 100%|██████████| 469/469 [00:17<00:00, 26.82it/s]\n"
          ]
        },
        {
          "output_type": "stream",
          "name": "stdout",
          "text": [
            "\n",
            "Test set: Average loss: 0.0337, Accuracy: 9896/10000 (98.96%)\n",
            "\n",
            "train_acc_diff: 0.163 test_acc_diff: 0.090 test_train_diff: 0.528\n",
            "\n",
            "Epoch: 5\n"
          ]
        },
        {
          "output_type": "stream",
          "name": "stderr",
          "text": [
            "Loss=0.02859080582857132 Batch_id=468 Accuracy=98.61: 100%|██████████| 469/469 [00:17<00:00, 26.53it/s]\n"
          ]
        },
        {
          "output_type": "stream",
          "name": "stdout",
          "text": [
            "\n",
            "Test set: Average loss: 0.0337, Accuracy: 9895/10000 (98.95%)\n",
            "\n",
            "train_acc_diff: 0.175 test_acc_diff: -0.010 test_train_diff: 0.343\n",
            "\n",
            "Epoch: 6\n"
          ]
        },
        {
          "output_type": "stream",
          "name": "stderr",
          "text": [
            "Loss=0.07048401981592178 Batch_id=468 Accuracy=98.65: 100%|██████████| 469/469 [00:19<00:00, 23.65it/s]\n"
          ]
        },
        {
          "output_type": "stream",
          "name": "stdout",
          "text": [
            "\n",
            "Test set: Average loss: 0.0301, Accuracy: 9920/10000 (99.20%)\n",
            "\n",
            "train_acc_diff: 0.047 test_acc_diff: 0.250 test_train_diff: 0.547\n",
            "\n",
            "Epoch: 7\n"
          ]
        },
        {
          "output_type": "stream",
          "name": "stderr",
          "text": [
            "Loss=0.017610806971788406 Batch_id=468 Accuracy=98.85: 100%|██████████| 469/469 [00:17<00:00, 26.67it/s]\n"
          ]
        },
        {
          "output_type": "stream",
          "name": "stdout",
          "text": [
            "\n",
            "Test set: Average loss: 0.0258, Accuracy: 9922/10000 (99.22%)\n",
            "\n",
            "train_acc_diff: 0.200 test_acc_diff: 0.020 test_train_diff: 0.367\n",
            "\n",
            "Epoch: 8\n"
          ]
        },
        {
          "output_type": "stream",
          "name": "stderr",
          "text": [
            "Loss=0.06476177275180817 Batch_id=468 Accuracy=99.00: 100%|██████████| 469/469 [00:17<00:00, 26.67it/s]\n"
          ]
        },
        {
          "output_type": "stream",
          "name": "stdout",
          "text": [
            "\n",
            "Test set: Average loss: 0.0283, Accuracy: 9915/10000 (99.15%)\n",
            "\n",
            "train_acc_diff: 0.143 test_acc_diff: -0.070 test_train_diff: 0.153\n",
            "\n",
            "Epoch: 9\n"
          ]
        },
        {
          "output_type": "stream",
          "name": "stderr",
          "text": [
            "Loss=0.06050502136349678 Batch_id=468 Accuracy=98.93: 100%|██████████| 469/469 [00:17<00:00, 26.72it/s]\n"
          ]
        },
        {
          "output_type": "stream",
          "name": "stdout",
          "text": [
            "\n",
            "Test set: Average loss: 0.0242, Accuracy: 9926/10000 (99.26%)\n",
            "\n",
            "train_acc_diff: -0.065 test_acc_diff: 0.110 test_train_diff: 0.328\n",
            "\n",
            "Epoch: 10\n"
          ]
        },
        {
          "output_type": "stream",
          "name": "stderr",
          "text": [
            "Loss=0.05415941774845123 Batch_id=468 Accuracy=98.97: 100%|██████████| 469/469 [00:17<00:00, 26.90it/s]\n"
          ]
        },
        {
          "output_type": "stream",
          "name": "stdout",
          "text": [
            "\n",
            "Test set: Average loss: 0.0250, Accuracy: 9926/10000 (99.26%)\n",
            "\n",
            "train_acc_diff: 0.033 test_acc_diff: 0.000 test_train_diff: 0.295\n",
            "\n",
            "Epoch: 11\n"
          ]
        },
        {
          "output_type": "stream",
          "name": "stderr",
          "text": [
            "Loss=0.06819178909063339 Batch_id=468 Accuracy=99.03: 100%|██████████| 469/469 [00:17<00:00, 26.46it/s]\n"
          ]
        },
        {
          "output_type": "stream",
          "name": "stdout",
          "text": [
            "\n",
            "Test set: Average loss: 0.0240, Accuracy: 9921/10000 (99.21%)\n",
            "\n",
            "train_acc_diff: 0.062 test_acc_diff: -0.050 test_train_diff: 0.183\n",
            "\n",
            "Epoch: 12\n"
          ]
        },
        {
          "output_type": "stream",
          "name": "stderr",
          "text": [
            "Loss=0.009240672923624516 Batch_id=468 Accuracy=99.05: 100%|██████████| 469/469 [00:17<00:00, 26.45it/s]\n"
          ]
        },
        {
          "output_type": "stream",
          "name": "stdout",
          "text": [
            "\n",
            "Test set: Average loss: 0.0222, Accuracy: 9927/10000 (99.27%)\n",
            "\n",
            "train_acc_diff: 0.023 test_acc_diff: 0.060 test_train_diff: 0.220\n",
            "\n",
            "Epoch: 13\n"
          ]
        },
        {
          "output_type": "stream",
          "name": "stderr",
          "text": [
            "Loss=0.019125111401081085 Batch_id=468 Accuracy=99.12: 100%|██████████| 469/469 [00:17<00:00, 26.41it/s]\n"
          ]
        },
        {
          "output_type": "stream",
          "name": "stdout",
          "text": [
            "\n",
            "Test set: Average loss: 0.0214, Accuracy: 9928/10000 (99.28%)\n",
            "\n",
            "train_acc_diff: 0.068 test_acc_diff: 0.010 test_train_diff: 0.162\n",
            "\n",
            "Epoch: 14\n"
          ]
        },
        {
          "output_type": "stream",
          "name": "stderr",
          "text": [
            "Loss=0.006671177688986063 Batch_id=468 Accuracy=99.14: 100%|██████████| 469/469 [00:17<00:00, 26.45it/s]\n"
          ]
        },
        {
          "output_type": "stream",
          "name": "stdout",
          "text": [
            "\n",
            "Test set: Average loss: 0.0199, Accuracy: 9935/10000 (99.35%)\n",
            "\n",
            "train_acc_diff: 0.023 test_acc_diff: 0.070 test_train_diff: 0.208\n",
            "\n",
            "Epoch: 15\n"
          ]
        },
        {
          "output_type": "stream",
          "name": "stderr",
          "text": [
            "Loss=0.021389247849583626 Batch_id=468 Accuracy=99.11: 100%|██████████| 469/469 [00:17<00:00, 26.34it/s]\n"
          ]
        },
        {
          "output_type": "stream",
          "name": "stdout",
          "text": [
            "\n",
            "Test set: Average loss: 0.0195, Accuracy: 9940/10000 (99.40%)\n",
            "\n",
            "train_acc_diff: -0.027 test_acc_diff: 0.050 test_train_diff: 0.285\n",
            "\n",
            "Epoch: 16\n"
          ]
        },
        {
          "output_type": "stream",
          "name": "stderr",
          "text": [
            "Loss=0.007922249846160412 Batch_id=468 Accuracy=99.11: 100%|██████████| 469/469 [00:18<00:00, 25.02it/s]\n"
          ]
        },
        {
          "output_type": "stream",
          "name": "stdout",
          "text": [
            "\n",
            "Test set: Average loss: 0.0198, Accuracy: 9941/10000 (99.41%)\n",
            "\n",
            "train_acc_diff: -0.005 test_acc_diff: 0.010 test_train_diff: 0.300\n",
            "\n",
            "Epoch: 17\n"
          ]
        },
        {
          "output_type": "stream",
          "name": "stderr",
          "text": [
            "Loss=0.07990499585866928 Batch_id=468 Accuracy=99.16: 100%|██████████| 469/469 [00:17<00:00, 26.29it/s]\n"
          ]
        },
        {
          "output_type": "stream",
          "name": "stdout",
          "text": [
            "\n",
            "Test set: Average loss: 0.0194, Accuracy: 9938/10000 (99.38%)\n",
            "\n",
            "train_acc_diff: 0.050 test_acc_diff: -0.030 test_train_diff: 0.220\n",
            "\n",
            "Epoch: 18\n"
          ]
        },
        {
          "output_type": "stream",
          "name": "stderr",
          "text": [
            "Loss=0.0035717871505767107 Batch_id=468 Accuracy=99.19: 100%|██████████| 469/469 [00:17<00:00, 26.15it/s]\n"
          ]
        },
        {
          "output_type": "stream",
          "name": "stdout",
          "text": [
            "\n",
            "Test set: Average loss: 0.0204, Accuracy: 9937/10000 (99.37%)\n",
            "\n",
            "train_acc_diff: 0.027 test_acc_diff: -0.010 test_train_diff: 0.183\n",
            "\n",
            "Epoch: 19\n"
          ]
        },
        {
          "output_type": "stream",
          "name": "stderr",
          "text": [
            "Loss=0.06603480875492096 Batch_id=468 Accuracy=99.23: 100%|██████████| 469/469 [00:17<00:00, 26.73it/s]\n"
          ]
        },
        {
          "output_type": "stream",
          "name": "stdout",
          "text": [
            "\n",
            "Test set: Average loss: 0.0191, Accuracy: 9941/10000 (99.41%)\n",
            "\n",
            "train_acc_diff: 0.042 test_acc_diff: 0.040 test_train_diff: 0.182\n",
            "\n",
            "Epoch: 20\n"
          ]
        },
        {
          "output_type": "stream",
          "name": "stderr",
          "text": [
            "Loss=0.017064468935132027 Batch_id=468 Accuracy=99.19: 100%|██████████| 469/469 [00:17<00:00, 26.23it/s]\n"
          ]
        },
        {
          "output_type": "stream",
          "name": "stdout",
          "text": [
            "\n",
            "Test set: Average loss: 0.0199, Accuracy: 9939/10000 (99.39%)\n",
            "\n",
            "train_acc_diff: -0.037 test_acc_diff: -0.020 test_train_diff: 0.198\n",
            "\n",
            "\n",
            "Train & Test Model with NormalizationType => NormType.LAYER_NORM\n",
            "\n",
            "Epoch: 1\n"
          ]
        },
        {
          "output_type": "stream",
          "name": "stderr",
          "text": [
            "Loss=0.0791592076420784 Batch_id=468 Accuracy=90.09: 100%|██████████| 469/469 [00:17<00:00, 26.86it/s]\n"
          ]
        },
        {
          "output_type": "stream",
          "name": "stdout",
          "text": [
            "\n",
            "Test set: Average loss: 0.0745, Accuracy: 9807/10000 (98.07%)\n",
            "\n",
            "train_acc_diff: 0.000 test_acc_diff: 0.000 test_train_diff: 7.978\n",
            "\n",
            "Epoch: 2\n"
          ]
        },
        {
          "output_type": "stream",
          "name": "stderr",
          "text": [
            "Loss=0.0729893296957016 Batch_id=468 Accuracy=97.66: 100%|██████████| 469/469 [00:17<00:00, 27.12it/s]\n"
          ]
        },
        {
          "output_type": "stream",
          "name": "stdout",
          "text": [
            "\n",
            "Test set: Average loss: 0.0458, Accuracy: 9873/10000 (98.73%)\n",
            "\n",
            "train_acc_diff: 7.570 test_acc_diff: 0.660 test_train_diff: 1.068\n",
            "\n",
            "Epoch: 3\n"
          ]
        },
        {
          "output_type": "stream",
          "name": "stderr",
          "text": [
            "Loss=0.020070618018507957 Batch_id=468 Accuracy=98.12: 100%|██████████| 469/469 [00:17<00:00, 27.15it/s]\n"
          ]
        },
        {
          "output_type": "stream",
          "name": "stdout",
          "text": [
            "\n",
            "Test set: Average loss: 0.0341, Accuracy: 9897/10000 (98.97%)\n",
            "\n",
            "train_acc_diff: 0.463 test_acc_diff: 0.240 test_train_diff: 0.845\n",
            "\n",
            "Epoch: 4\n"
          ]
        },
        {
          "output_type": "stream",
          "name": "stderr",
          "text": [
            "Loss=0.036860838532447815 Batch_id=468 Accuracy=98.32: 100%|██████████| 469/469 [00:17<00:00, 27.22it/s]\n"
          ]
        },
        {
          "output_type": "stream",
          "name": "stdout",
          "text": [
            "\n",
            "Test set: Average loss: 0.0309, Accuracy: 9906/10000 (99.06%)\n",
            "\n",
            "train_acc_diff: 0.192 test_acc_diff: 0.090 test_train_diff: 0.743\n",
            "\n",
            "Epoch: 5\n"
          ]
        },
        {
          "output_type": "stream",
          "name": "stderr",
          "text": [
            "Loss=0.023939630016684532 Batch_id=468 Accuracy=98.51: 100%|██████████| 469/469 [00:17<00:00, 27.34it/s]\n"
          ]
        },
        {
          "output_type": "stream",
          "name": "stdout",
          "text": [
            "\n",
            "Test set: Average loss: 0.0292, Accuracy: 9911/10000 (99.11%)\n",
            "\n",
            "train_acc_diff: 0.193 test_acc_diff: 0.050 test_train_diff: 0.600\n",
            "\n",
            "Epoch: 6\n"
          ]
        },
        {
          "output_type": "stream",
          "name": "stderr",
          "text": [
            "Loss=0.018845295533537865 Batch_id=468 Accuracy=98.58: 100%|██████████| 469/469 [00:18<00:00, 25.61it/s]\n"
          ]
        },
        {
          "output_type": "stream",
          "name": "stdout",
          "text": [
            "\n",
            "Test set: Average loss: 0.0268, Accuracy: 9914/10000 (99.14%)\n",
            "\n",
            "train_acc_diff: 0.065 test_acc_diff: 0.030 test_train_diff: 0.565\n",
            "\n",
            "Epoch: 7\n"
          ]
        },
        {
          "output_type": "stream",
          "name": "stderr",
          "text": [
            "Loss=0.06293252110481262 Batch_id=468 Accuracy=98.81: 100%|██████████| 469/469 [00:17<00:00, 26.94it/s]\n"
          ]
        },
        {
          "output_type": "stream",
          "name": "stdout",
          "text": [
            "\n",
            "Test set: Average loss: 0.0290, Accuracy: 9910/10000 (99.10%)\n",
            "\n",
            "train_acc_diff: 0.232 test_acc_diff: -0.040 test_train_diff: 0.293\n",
            "\n",
            "Epoch: 8\n"
          ]
        },
        {
          "output_type": "stream",
          "name": "stderr",
          "text": [
            "Loss=0.035567089915275574 Batch_id=468 Accuracy=98.92: 100%|██████████| 469/469 [00:17<00:00, 27.17it/s]\n"
          ]
        },
        {
          "output_type": "stream",
          "name": "stdout",
          "text": [
            "\n",
            "Test set: Average loss: 0.0269, Accuracy: 9925/10000 (99.25%)\n",
            "\n",
            "train_acc_diff: 0.110 test_acc_diff: 0.150 test_train_diff: 0.333\n",
            "\n",
            "Epoch: 9\n"
          ]
        },
        {
          "output_type": "stream",
          "name": "stderr",
          "text": [
            "Loss=0.031160905957221985 Batch_id=468 Accuracy=98.92: 100%|██████████| 469/469 [00:17<00:00, 27.41it/s]\n"
          ]
        },
        {
          "output_type": "stream",
          "name": "stdout",
          "text": [
            "\n",
            "Test set: Average loss: 0.0242, Accuracy: 9921/10000 (99.21%)\n",
            "\n",
            "train_acc_diff: 0.000 test_acc_diff: -0.040 test_train_diff: 0.293\n",
            "\n",
            "Epoch: 10\n"
          ]
        },
        {
          "output_type": "stream",
          "name": "stderr",
          "text": [
            "Loss=0.02867305465042591 Batch_id=468 Accuracy=98.93: 100%|██████████| 469/469 [00:17<00:00, 26.79it/s]\n"
          ]
        },
        {
          "output_type": "stream",
          "name": "stdout",
          "text": [
            "\n",
            "Test set: Average loss: 0.0243, Accuracy: 9930/10000 (99.30%)\n",
            "\n",
            "train_acc_diff: 0.015 test_acc_diff: 0.090 test_train_diff: 0.368\n",
            "\n",
            "Epoch: 11\n"
          ]
        },
        {
          "output_type": "stream",
          "name": "stderr",
          "text": [
            "Loss=0.017816318199038506 Batch_id=468 Accuracy=99.01: 100%|██████████| 469/469 [00:17<00:00, 27.40it/s]\n"
          ]
        },
        {
          "output_type": "stream",
          "name": "stdout",
          "text": [
            "\n",
            "Test set: Average loss: 0.0273, Accuracy: 9912/10000 (99.12%)\n",
            "\n",
            "train_acc_diff: 0.077 test_acc_diff: -0.180 test_train_diff: 0.112\n",
            "\n",
            "Epoch: 12\n"
          ]
        },
        {
          "output_type": "stream",
          "name": "stderr",
          "text": [
            "Loss=0.010300208814442158 Batch_id=468 Accuracy=99.00: 100%|██████████| 469/469 [00:17<00:00, 27.46it/s]\n"
          ]
        },
        {
          "output_type": "stream",
          "name": "stdout",
          "text": [
            "\n",
            "Test set: Average loss: 0.0218, Accuracy: 9932/10000 (99.32%)\n",
            "\n",
            "train_acc_diff: -0.007 test_acc_diff: 0.200 test_train_diff: 0.318\n",
            "\n",
            "Epoch: 13\n"
          ]
        },
        {
          "output_type": "stream",
          "name": "stderr",
          "text": [
            "Loss=0.04817372187972069 Batch_id=468 Accuracy=99.09: 100%|██████████| 469/469 [00:17<00:00, 27.33it/s]\n"
          ]
        },
        {
          "output_type": "stream",
          "name": "stdout",
          "text": [
            "\n",
            "Test set: Average loss: 0.0214, Accuracy: 9934/10000 (99.34%)\n",
            "\n",
            "train_acc_diff: 0.085 test_acc_diff: 0.020 test_train_diff: 0.253\n",
            "\n",
            "Epoch: 14\n"
          ]
        },
        {
          "output_type": "stream",
          "name": "stderr",
          "text": [
            "Loss=0.01770428940653801 Batch_id=468 Accuracy=99.10: 100%|██████████| 469/469 [00:17<00:00, 27.12it/s]\n"
          ]
        },
        {
          "output_type": "stream",
          "name": "stdout",
          "text": [
            "\n",
            "Test set: Average loss: 0.0210, Accuracy: 9936/10000 (99.36%)\n",
            "\n",
            "train_acc_diff: 0.015 test_acc_diff: 0.020 test_train_diff: 0.258\n",
            "\n",
            "Epoch: 15\n"
          ]
        },
        {
          "output_type": "stream",
          "name": "stderr",
          "text": [
            "Loss=0.031939659267663956 Batch_id=468 Accuracy=99.10: 100%|██████████| 469/469 [00:17<00:00, 27.33it/s]\n"
          ]
        },
        {
          "output_type": "stream",
          "name": "stdout",
          "text": [
            "\n",
            "Test set: Average loss: 0.0221, Accuracy: 9936/10000 (99.36%)\n",
            "\n",
            "train_acc_diff: -0.005 test_acc_diff: 0.000 test_train_diff: 0.263\n",
            "\n",
            "Epoch: 16\n"
          ]
        },
        {
          "output_type": "stream",
          "name": "stderr",
          "text": [
            "Loss=0.03275141492486 Batch_id=468 Accuracy=99.15: 100%|██████████| 469/469 [00:17<00:00, 27.18it/s]\n"
          ]
        },
        {
          "output_type": "stream",
          "name": "stdout",
          "text": [
            "\n",
            "Test set: Average loss: 0.0202, Accuracy: 9930/10000 (99.30%)\n",
            "\n",
            "train_acc_diff: 0.050 test_acc_diff: -0.060 test_train_diff: 0.153\n",
            "\n",
            "Epoch: 17\n"
          ]
        },
        {
          "output_type": "stream",
          "name": "stderr",
          "text": [
            "Loss=0.0076120453886687756 Batch_id=468 Accuracy=99.17: 100%|██████████| 469/469 [00:17<00:00, 27.28it/s]\n"
          ]
        },
        {
          "output_type": "stream",
          "name": "stdout",
          "text": [
            "\n",
            "Test set: Average loss: 0.0194, Accuracy: 9946/10000 (99.46%)\n",
            "\n",
            "train_acc_diff: 0.025 test_acc_diff: 0.160 test_train_diff: 0.288\n",
            "\n",
            "Epoch: 18\n"
          ]
        },
        {
          "output_type": "stream",
          "name": "stderr",
          "text": [
            "Loss=0.02303861826658249 Batch_id=468 Accuracy=99.14: 100%|██████████| 469/469 [00:16<00:00, 27.59it/s]\n"
          ]
        },
        {
          "output_type": "stream",
          "name": "stdout",
          "text": [
            "\n",
            "Test set: Average loss: 0.0202, Accuracy: 9939/10000 (99.39%)\n",
            "\n",
            "train_acc_diff: -0.035 test_acc_diff: -0.070 test_train_diff: 0.253\n",
            "\n",
            "Epoch: 19\n"
          ]
        },
        {
          "output_type": "stream",
          "name": "stderr",
          "text": [
            "Loss=0.0476355142891407 Batch_id=468 Accuracy=99.23: 100%|██████████| 469/469 [00:17<00:00, 27.15it/s]\n"
          ]
        },
        {
          "output_type": "stream",
          "name": "stdout",
          "text": [
            "\n",
            "Test set: Average loss: 0.0191, Accuracy: 9938/10000 (99.38%)\n",
            "\n",
            "train_acc_diff: 0.095 test_acc_diff: -0.010 test_train_diff: 0.148\n",
            "\n",
            "Epoch: 20\n"
          ]
        },
        {
          "output_type": "stream",
          "name": "stderr",
          "text": [
            "Loss=0.036755193024873734 Batch_id=468 Accuracy=99.18: 100%|██████████| 469/469 [00:17<00:00, 27.34it/s]\n"
          ]
        },
        {
          "output_type": "stream",
          "name": "stdout",
          "text": [
            "\n",
            "Test set: Average loss: 0.0198, Accuracy: 9937/10000 (99.37%)\n",
            "\n",
            "train_acc_diff: -0.052 test_acc_diff: -0.010 test_train_diff: 0.190\n",
            "\n",
            "\n",
            "Train & Test Model with NormalizationType => NormType.GROUP_NORM\n",
            "\n",
            "Epoch: 1\n"
          ]
        },
        {
          "output_type": "stream",
          "name": "stderr",
          "text": [
            "Loss=0.10445037484169006 Batch_id=468 Accuracy=88.87: 100%|██████████| 469/469 [00:17<00:00, 26.59it/s]\n"
          ]
        },
        {
          "output_type": "stream",
          "name": "stdout",
          "text": [
            "\n",
            "Test set: Average loss: 0.0627, Accuracy: 9820/10000 (98.20%)\n",
            "\n",
            "train_acc_diff: 0.000 test_acc_diff: 0.000 test_train_diff: 9.327\n",
            "\n",
            "Epoch: 2\n"
          ]
        },
        {
          "output_type": "stream",
          "name": "stderr",
          "text": [
            "Loss=0.1038723811507225 Batch_id=468 Accuracy=97.21: 100%|██████████| 469/469 [00:17<00:00, 26.61it/s]\n"
          ]
        },
        {
          "output_type": "stream",
          "name": "stdout",
          "text": [
            "\n",
            "Test set: Average loss: 0.0525, Accuracy: 9834/10000 (98.34%)\n",
            "\n",
            "train_acc_diff: 8.338 test_acc_diff: 0.140 test_train_diff: 1.128\n",
            "\n",
            "Epoch: 3\n"
          ]
        },
        {
          "output_type": "stream",
          "name": "stderr",
          "text": [
            "Loss=0.13072064518928528 Batch_id=468 Accuracy=97.99: 100%|██████████| 469/469 [00:17<00:00, 26.78it/s]\n"
          ]
        },
        {
          "output_type": "stream",
          "name": "stdout",
          "text": [
            "\n",
            "Test set: Average loss: 0.0387, Accuracy: 9868/10000 (98.68%)\n",
            "\n",
            "train_acc_diff: 0.775 test_acc_diff: 0.340 test_train_diff: 0.693\n",
            "\n",
            "Epoch: 4\n"
          ]
        },
        {
          "output_type": "stream",
          "name": "stderr",
          "text": [
            "Loss=0.022603437304496765 Batch_id=468 Accuracy=98.15: 100%|██████████| 469/469 [00:17<00:00, 26.86it/s]\n"
          ]
        },
        {
          "output_type": "stream",
          "name": "stdout",
          "text": [
            "\n",
            "Test set: Average loss: 0.0391, Accuracy: 9864/10000 (98.64%)\n",
            "\n",
            "train_acc_diff: 0.162 test_acc_diff: -0.040 test_train_diff: 0.492\n",
            "\n",
            "Epoch: 5\n"
          ]
        },
        {
          "output_type": "stream",
          "name": "stderr",
          "text": [
            "Loss=0.04341968894004822 Batch_id=468 Accuracy=98.43: 100%|██████████| 469/469 [00:17<00:00, 26.98it/s]\n"
          ]
        },
        {
          "output_type": "stream",
          "name": "stdout",
          "text": [
            "\n",
            "Test set: Average loss: 0.0302, Accuracy: 9912/10000 (99.12%)\n",
            "\n",
            "train_acc_diff: 0.282 test_acc_diff: 0.480 test_train_diff: 0.690\n",
            "\n",
            "Epoch: 6\n"
          ]
        },
        {
          "output_type": "stream",
          "name": "stderr",
          "text": [
            "Loss=0.007069737184792757 Batch_id=468 Accuracy=98.44: 100%|██████████| 469/469 [00:17<00:00, 26.71it/s]\n"
          ]
        },
        {
          "output_type": "stream",
          "name": "stdout",
          "text": [
            "\n",
            "Test set: Average loss: 0.0279, Accuracy: 9899/10000 (98.99%)\n",
            "\n",
            "train_acc_diff: 0.010 test_acc_diff: -0.130 test_train_diff: 0.550\n",
            "\n",
            "Epoch: 7\n"
          ]
        },
        {
          "output_type": "stream",
          "name": "stderr",
          "text": [
            "Loss=0.015152737498283386 Batch_id=468 Accuracy=98.80: 100%|██████████| 469/469 [00:18<00:00, 24.94it/s]\n"
          ]
        },
        {
          "output_type": "stream",
          "name": "stdout",
          "text": [
            "\n",
            "Test set: Average loss: 0.0224, Accuracy: 9926/10000 (99.26%)\n",
            "\n",
            "train_acc_diff: 0.355 test_acc_diff: 0.270 test_train_diff: 0.465\n",
            "\n",
            "Epoch: 8\n"
          ]
        },
        {
          "output_type": "stream",
          "name": "stderr",
          "text": [
            "Loss=0.028565051034092903 Batch_id=468 Accuracy=98.89: 100%|██████████| 469/469 [00:17<00:00, 26.87it/s]\n"
          ]
        },
        {
          "output_type": "stream",
          "name": "stdout",
          "text": [
            "\n",
            "Test set: Average loss: 0.0241, Accuracy: 9921/10000 (99.21%)\n",
            "\n",
            "train_acc_diff: 0.095 test_acc_diff: -0.050 test_train_diff: 0.320\n",
            "\n",
            "Epoch: 9\n"
          ]
        },
        {
          "output_type": "stream",
          "name": "stderr",
          "text": [
            "Loss=0.024412378668785095 Batch_id=468 Accuracy=98.90: 100%|██████████| 469/469 [00:17<00:00, 26.88it/s]\n"
          ]
        },
        {
          "output_type": "stream",
          "name": "stdout",
          "text": [
            "\n",
            "Test set: Average loss: 0.0220, Accuracy: 9923/10000 (99.23%)\n",
            "\n",
            "train_acc_diff: 0.007 test_acc_diff: 0.020 test_train_diff: 0.333\n",
            "\n",
            "Epoch: 10\n"
          ]
        },
        {
          "output_type": "stream",
          "name": "stderr",
          "text": [
            "Loss=0.007563360035419464 Batch_id=468 Accuracy=98.97: 100%|██████████| 469/469 [00:17<00:00, 27.01it/s]\n"
          ]
        },
        {
          "output_type": "stream",
          "name": "stdout",
          "text": [
            "\n",
            "Test set: Average loss: 0.0256, Accuracy: 9911/10000 (99.11%)\n",
            "\n",
            "train_acc_diff: 0.078 test_acc_diff: -0.120 test_train_diff: 0.135\n",
            "\n",
            "Epoch: 11\n"
          ]
        },
        {
          "output_type": "stream",
          "name": "stderr",
          "text": [
            "Loss=0.08012125641107559 Batch_id=468 Accuracy=98.97: 100%|██████████| 469/469 [00:17<00:00, 26.82it/s]\n"
          ]
        },
        {
          "output_type": "stream",
          "name": "stdout",
          "text": [
            "\n",
            "Test set: Average loss: 0.0214, Accuracy: 9926/10000 (99.26%)\n",
            "\n",
            "train_acc_diff: -0.003 test_acc_diff: 0.150 test_train_diff: 0.288\n",
            "\n",
            "Epoch: 12\n"
          ]
        },
        {
          "output_type": "stream",
          "name": "stderr",
          "text": [
            "Loss=0.03026718832552433 Batch_id=468 Accuracy=98.97: 100%|██████████| 469/469 [00:17<00:00, 26.80it/s]\n"
          ]
        },
        {
          "output_type": "stream",
          "name": "stdout",
          "text": [
            "\n",
            "Test set: Average loss: 0.0211, Accuracy: 9928/10000 (99.28%)\n",
            "\n",
            "train_acc_diff: -0.002 test_acc_diff: 0.020 test_train_diff: 0.310\n",
            "\n",
            "Epoch: 13\n"
          ]
        },
        {
          "output_type": "stream",
          "name": "stderr",
          "text": [
            "Loss=0.005424035247415304 Batch_id=468 Accuracy=99.11: 100%|██████████| 469/469 [00:17<00:00, 26.94it/s]\n"
          ]
        },
        {
          "output_type": "stream",
          "name": "stdout",
          "text": [
            "\n",
            "Test set: Average loss: 0.0204, Accuracy: 9931/10000 (99.31%)\n",
            "\n",
            "train_acc_diff: 0.138 test_acc_diff: 0.030 test_train_diff: 0.202\n",
            "\n",
            "Epoch: 14\n"
          ]
        },
        {
          "output_type": "stream",
          "name": "stderr",
          "text": [
            "Loss=0.00811756867915392 Batch_id=468 Accuracy=99.16: 100%|██████████| 469/469 [00:17<00:00, 26.80it/s]\n"
          ]
        },
        {
          "output_type": "stream",
          "name": "stdout",
          "text": [
            "\n",
            "Test set: Average loss: 0.0190, Accuracy: 9930/10000 (99.30%)\n",
            "\n",
            "train_acc_diff: 0.052 test_acc_diff: -0.010 test_train_diff: 0.140\n",
            "\n",
            "Epoch: 15\n"
          ]
        },
        {
          "output_type": "stream",
          "name": "stderr",
          "text": [
            "Loss=0.03233138844370842 Batch_id=468 Accuracy=99.06: 100%|██████████| 469/469 [00:17<00:00, 26.62it/s]\n"
          ]
        },
        {
          "output_type": "stream",
          "name": "stdout",
          "text": [
            "\n",
            "Test set: Average loss: 0.0178, Accuracy: 9945/10000 (99.45%)\n",
            "\n",
            "train_acc_diff: -0.100 test_acc_diff: 0.150 test_train_diff: 0.390\n",
            "\n",
            "Epoch: 16\n"
          ]
        },
        {
          "output_type": "stream",
          "name": "stderr",
          "text": [
            "Loss=0.0067556933499872684 Batch_id=468 Accuracy=99.13: 100%|██████████| 469/469 [00:17<00:00, 26.95it/s]\n"
          ]
        },
        {
          "output_type": "stream",
          "name": "stdout",
          "text": [
            "\n",
            "Test set: Average loss: 0.0194, Accuracy: 9939/10000 (99.39%)\n",
            "\n",
            "train_acc_diff: 0.072 test_acc_diff: -0.060 test_train_diff: 0.258\n",
            "\n",
            "Epoch: 17\n"
          ]
        },
        {
          "output_type": "stream",
          "name": "stderr",
          "text": [
            "Loss=0.036339882761240005 Batch_id=468 Accuracy=99.19: 100%|██████████| 469/469 [00:18<00:00, 25.36it/s]\n"
          ]
        },
        {
          "output_type": "stream",
          "name": "stdout",
          "text": [
            "\n",
            "Test set: Average loss: 0.0192, Accuracy: 9925/10000 (99.25%)\n",
            "\n",
            "train_acc_diff: 0.060 test_acc_diff: -0.140 test_train_diff: 0.058\n",
            "\n",
            "Epoch: 18\n"
          ]
        },
        {
          "output_type": "stream",
          "name": "stderr",
          "text": [
            "Loss=0.040801752358675 Batch_id=468 Accuracy=99.16: 100%|██████████| 469/469 [00:17<00:00, 26.81it/s]\n"
          ]
        },
        {
          "output_type": "stream",
          "name": "stdout",
          "text": [
            "\n",
            "Test set: Average loss: 0.0186, Accuracy: 9937/10000 (99.37%)\n",
            "\n",
            "train_acc_diff: -0.030 test_acc_diff: 0.120 test_train_diff: 0.208\n",
            "\n",
            "Epoch: 19\n"
          ]
        },
        {
          "output_type": "stream",
          "name": "stderr",
          "text": [
            "Loss=0.008052781224250793 Batch_id=468 Accuracy=99.24: 100%|██████████| 469/469 [00:17<00:00, 26.73it/s]\n"
          ]
        },
        {
          "output_type": "stream",
          "name": "stdout",
          "text": [
            "\n",
            "Test set: Average loss: 0.0183, Accuracy: 9936/10000 (99.36%)\n",
            "\n",
            "train_acc_diff: 0.078 test_acc_diff: -0.010 test_train_diff: 0.120\n",
            "\n",
            "Epoch: 20\n"
          ]
        },
        {
          "output_type": "stream",
          "name": "stderr",
          "text": [
            "Loss=0.012767056934535503 Batch_id=468 Accuracy=99.27: 100%|██████████| 469/469 [00:17<00:00, 27.06it/s]\n"
          ]
        },
        {
          "output_type": "stream",
          "name": "stdout",
          "text": [
            "\n",
            "Test set: Average loss: 0.0181, Accuracy: 9941/10000 (99.41%)\n",
            "\n",
            "train_acc_diff: 0.028 test_acc_diff: 0.050 test_train_diff: 0.142\n",
            "\n"
          ]
        }
      ]
    },
    {
      "cell_type": "markdown",
      "source": [
        "# Plot the model's learning progress\n",
        "\n",
        "- Plot training and test accuracies of all models"
      ],
      "metadata": {
        "id": "ohFyeQM14S4v"
      }
    },
    {
      "cell_type": "code",
      "source": [
        "%matplotlib inline\n",
        "import matplotlib.pyplot as plt\n",
        "\n",
        "plt.rcParams['figure.figsize'] = [15, 6]\n",
        "\n",
        "for name in norm_name:\n",
        "  \n",
        "  train_losses  = evaluation_metrics[name][0]\n",
        "  test_losses   = evaluation_metrics[name][1]\n",
        "  train_acc     = evaluation_metrics[name][2]\n",
        "  test_acc      = evaluation_metrics[name][3]\n",
        "\n",
        "  plt.subplot(2,2, 1)\n",
        "\n",
        "  plt.plot(test_acc)\n",
        "  plt.legend(norm_name)\n",
        "  plt.title(\"Test Accuracy\")\n",
        "\n",
        "  plt.xlabel('Epoch')\n",
        "  plt.ylabel('Accuracy')\n",
        "\n",
        "  plt.subplot(1,2,2)\n",
        "  plt.plot(test_losses)\n",
        "  plt.legend(norm_name)\n",
        "  plt.title('Test Loss')\n",
        "  plt.xlabel('Epoch')\n",
        "  plt.ylabel('Loss')\n"
      ],
      "metadata": {
        "id": "hXerw0vF4cVS",
        "colab": {
          "base_uri": "https://localhost:8080/",
          "height": 478
        },
        "outputId": "56690e63-7975-4cdb-f0fa-6a25d2a5c869"
      },
      "execution_count": 25,
      "outputs": [
        {
          "output_type": "stream",
          "name": "stderr",
          "text": [
            "<ipython-input-25-d4840e90c6c3>:13: MatplotlibDeprecationWarning: Adding an axes using the same arguments as a previous axes currently reuses the earlier instance.  In a future version, a new instance will always be created and returned.  Meanwhile, this warning can be suppressed, and the future behavior ensured, by passing a unique label to each axes instance.\n",
            "  plt.subplot(2,2, 1)\n",
            "<ipython-input-25-d4840e90c6c3>:22: MatplotlibDeprecationWarning: Adding an axes using the same arguments as a previous axes currently reuses the earlier instance.  In a future version, a new instance will always be created and returned.  Meanwhile, this warning can be suppressed, and the future behavior ensured, by passing a unique label to each axes instance.\n",
            "  plt.subplot(1,2,2)\n"
          ]
        },
        {
          "output_type": "display_data",
          "data": {
            "text/plain": [
              "<Figure size 1080x432 with 2 Axes>"
            ],
            "image/png": "[encoded data removed]"
          },
          "metadata": {
            "needs_background": "light"
          }
        }
      ]
    },
    {
      "cell_type": "markdown",
      "source": [
        "# Move tesnors to numpy as required\n",
        "\n",
        "- train_losses is a list, but train_losses[i] is a tensor\n",
        "- all others are numpy\n",
        "\n",
        "## APIs to use\n",
        "\n",
        "- To go from np.array to cpu Tensor    => torch.from_numpy().\n",
        "- To go from cpu Tensor to gpu Tensor  => .cuda()\n",
        "- To go from a Tensor that requires_grad to one that does not => .detach() \n",
        "- To go from a gpu Tensor to cpu Tensor => .cpu()\n",
        "- To gp from a cpu Tensor to np.array   => .numpy()"
      ],
      "metadata": {
        "id": "RrWvGDmWjsNv"
      }
    },
    {
      "cell_type": "code",
      "source": [],
      "metadata": {
        "id": "55IDwQYrjsqy"
      },
      "execution_count": 25,
      "outputs": []
    }
  ]
}