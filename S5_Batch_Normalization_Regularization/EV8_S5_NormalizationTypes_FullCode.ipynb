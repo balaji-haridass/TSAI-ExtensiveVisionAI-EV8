{
  "nbformat": 4,
  "nbformat_minor": 0,
  "metadata": {
    "colab": {
      "provenance": []
    },
    "kernelspec": {
      "name": "python3",
      "display_name": "Python 3"
    },
    "accelerator": "GPU",
    "gpuClass": "standard"
  },
  "cells": [
    {
      "cell_type": "markdown",
      "source": [
        "\n",
        "## Problem Statement\n",
        "\n",
        "- Write a single model.py file that includes GN/LN/BN and takes an argument to decide which normalization to include\n",
        "- Write a single notebook file to run all the 3 models above for 20 epochs each\n",
        "- Create these graphs:\n",
        "  Graph 1: Test/Validation Loss for all 3 models together\n",
        "  Graph 2: Test/Validation Accuracy for 3 models together\n",
        "  graphs must have proper annotation\n",
        "\n",
        "- Find 10 misclassified images for each of the 3 models, and show them as a 5x2 image matrix in 3 separately annotated images. "
      ],
      "metadata": {
        "id": "aJQ7PTNBwYio"
      }
    },
    {
      "cell_type": "markdown",
      "source": [
        "# Import Libraries"
      ],
      "metadata": {
        "id": "JiDBqSWLy4S7"
      }
    },
    {
      "cell_type": "code",
      "metadata": {
        "id": "0m2JWFliFfKT"
      },
      "source": [
        "# import all the required torch functions\n",
        "from __future__ import print_function\n",
        "import torch\n",
        "import torch.nn as nn\n",
        "import torch.nn.functional as F\n",
        "import torch.optim as optim\n",
        "from torchvision import datasets, transforms\n",
        "\n",
        "from enum import Enum"
      ],
      "execution_count": 13,
      "outputs": []
    },
    {
      "cell_type": "markdown",
      "source": [
        "\n",
        "# Include Data Transformations\n",
        "\n",
        "- We first start with defining our data transformations.\n",
        "- We need to think what our data is and how can we augment it to represent  represent correctly which it might not see otherwise. "
      ],
      "metadata": {
        "id": "zBdJxtnmxhsU"
      }
    },
    {
      "cell_type": "code",
      "source": [
        "# Train Phase transformations\n",
        "train_transforms = transforms.Compose([\n",
        "                            #  transforms.Resize((28, 28)),\n",
        "                            #  transforms.ColorJitter(brightness=0.10, contrast=0.1, saturation=0.10, hue=0.1),\n",
        "                            transforms.RandomRotation((-10.0, 10.0), fill=(1,)),\n",
        "                            transforms.ToTensor(),\n",
        "                            transforms.Normalize((0.1307,), (0.3081,)) # The mean and std have to be sequences (e.g., tuples), therefore you should add a comma after the values. \n",
        "                            # Note the difference between (0.1307) and (0.1307,)\n",
        "                        ])\n",
        "\n",
        "# Test Phase transformations\n",
        "test_transforms = transforms.Compose([\n",
        "                            #  transforms.Resize((28, 28)),\n",
        "                            #  transforms.ColorJitter(brightness=0.10, contrast=0.1, saturation=0.10, hue=0.1),\n",
        "                            transforms.ToTensor(),\n",
        "                            transforms.Normalize((0.1307,), (0.3081,))\n",
        "                        ])"
      ],
      "metadata": {
        "id": "zlNdaa4FzCP-"
      },
      "execution_count": 14,
      "outputs": []
    },
    {
      "cell_type": "markdown",
      "source": [
        "# Dataset and Creating Train/Test Split"
      ],
      "metadata": {
        "id": "ZZlMLiljzGJm"
      }
    },
    {
      "cell_type": "code",
      "source": [
        "train = datasets.MNIST('./data', train=True, download=True, transform=train_transforms)\n",
        "test = datasets.MNIST('./data', train=False, download=True, transform=test_transforms)"
      ],
      "metadata": {
        "id": "wa7KdPfCzLJc"
      },
      "execution_count": 15,
      "outputs": []
    },
    {
      "cell_type": "markdown",
      "source": [
        "# Check for GPU availability"
      ],
      "metadata": {
        "id": "1hHiUa_v0d90"
      }
    },
    {
      "cell_type": "code",
      "source": [
        "SEED = 1\n",
        "\n",
        "# CUDA? Check for GPU availability\n",
        "cuda = torch.cuda.is_available()\n",
        "print(\"CUDA Available?\", cuda)\n",
        "\n",
        "# Setup Seed, for reproducibility\n",
        "torch.manual_seed(SEED)\n",
        "\n",
        "if cuda:\n",
        "    torch.cuda.manual_seed(SEED)"
      ],
      "metadata": {
        "colab": {
          "base_uri": "https://localhost:8080/"
        },
        "id": "MjpXhFWt0gls",
        "outputId": "ba379084-69e4-4f7b-a46c-7dbe59b8fe55"
      },
      "execution_count": 16,
      "outputs": [
        {
          "output_type": "stream",
          "name": "stdout",
          "text": [
            "CUDA Available? True\n"
          ]
        }
      ]
    },
    {
      "cell_type": "markdown",
      "source": [
        "# Dataloader Arguments & Test/Train Dataloaders"
      ],
      "metadata": {
        "id": "WL-4GlmozcFb"
      }
    },
    {
      "cell_type": "code",
      "source": [
        "# dataloader arguments - something you'll fetch these from cmdprmt\n",
        "dataloader_args = dict(shuffle=True, batch_size=128, num_workers=4, pin_memory=True) if cuda else dict(shuffle=True, batch_size=64)\n",
        "\n",
        "# train dataloader\n",
        "train_loader = torch.utils.data.DataLoader(train, **dataloader_args)\n",
        "\n",
        "# test dataloader\n",
        "test_loader = torch.utils.data.DataLoader(test, **dataloader_args)"
      ],
      "metadata": {
        "id": "DiyHHhXnzgWy",
        "colab": {
          "base_uri": "https://localhost:8080/"
        },
        "outputId": "7565d998-f662-46a2-c202-444c071275c1"
      },
      "execution_count": 17,
      "outputs": [
        {
          "output_type": "stream",
          "name": "stderr",
          "text": [
            "/usr/local/lib/python3.8/dist-packages/torch/utils/data/dataloader.py:554: UserWarning: This DataLoader will create 4 worker processes in total. Our suggested max number of worker in current system is 2, which is smaller than what this DataLoader is going to create. Please be aware that excessive worker creation might get DataLoader running slow or even freeze, lower the worker number to avoid potential slowness/freeze if necessary.\n",
            "  warnings.warn(_create_warning_msg(\n"
          ]
        }
      ]
    },
    {
      "cell_type": "markdown",
      "source": [
        "# The Model\n",
        "\n",
        "- Let's start with model from where we achieved < 20K params (Earlier assignment S3) "
      ],
      "metadata": {
        "id": "9nUBpjxW1D-O"
      }
    },
    {
      "cell_type": "code",
      "source": [
        "# define enumerations for clarity\n",
        "class NormType(Enum):  \n",
        "  BATCH_NORM = 1\n",
        "  LAYER_NORM = 2\n",
        "  GROUP_NORM = 3\n",
        "\n",
        "class RegularizerType(Enum):  \n",
        "  NONE = 1\n",
        "  L1 = 2\n",
        "  L2 = 3\n",
        "\n",
        "#define the model\n",
        "class Net(nn.Module):\n",
        "\n",
        "    def __init__(self, input_shape = (1, 28, 28), norm_type=NormType.BATCH_NORM, dropout_value=0.05):\n",
        "        super(Net, self).__init__()\n",
        "\n",
        "        # store the norm type for this instance. Control the code based on it\n",
        "        self.norm_type = norm_type \n",
        "        self.dropout_value = dropout_value\n",
        "        self.input_shape = input_shape\n",
        "        self.changed_output_size = int(input_shape[1])\n",
        "        self.norm_type = norm_type\n",
        "\n",
        "        # Input Block\n",
        "        self.changed_output_size -= 2 #based on conv2d params\n",
        "        self.convblock1 = nn.Sequential(\n",
        "            nn.Conv2d(in_channels=1, out_channels=8, kernel_size=(3, 3), padding=0, bias=False),\n",
        "            nn.ReLU(),            \n",
        "            self.normalization_layer(self.norm_type, (8, self.changed_output_size, self.changed_output_size, 2)),\n",
        "            nn.Dropout(self.dropout_value)\n",
        "        ) # output_size = 26\n",
        "\n",
        "        # CONVOLUTION BLOCK 1\n",
        "        self.changed_output_size -= 2\n",
        "        self.convblock2 = nn.Sequential(\n",
        "            nn.Conv2d(in_channels=8, out_channels=15, kernel_size=(3, 3), padding=0, bias=False),\n",
        "            nn.ReLU(),\n",
        "            self.normalization_layer(self.norm_type, (15, self.changed_output_size, self.changed_output_size, 3)),\n",
        "            nn.Dropout(self.dropout_value)\n",
        "        ) # output_size = 24\n",
        "\n",
        "        # TRANSITION BLOCK 1\n",
        "        self.convblock3 = nn.Sequential(\n",
        "            nn.Conv2d(in_channels=15, out_channels=15, kernel_size=(1, 1), padding=0, bias=False),\n",
        "        ) # output_size = 24\n",
        "\n",
        "        self.pool1 = nn.MaxPool2d(2, 2) # output_size = 12\n",
        "        self.changed_output_size /= 2\n",
        "\n",
        "        # CONVOLUTION BLOCK 2\n",
        "        self.changed_output_size -= 2\n",
        "        self.convblock4 = nn.Sequential(\n",
        "            nn.Conv2d(in_channels=15, out_channels=15, kernel_size=(3, 3), padding=0, bias=False),\n",
        "            nn.ReLU(),            \n",
        "            self.normalization_layer(self.norm_type, (15, self.changed_output_size, self.changed_output_size, 3)),\n",
        "            nn.Dropout(self.dropout_value)\n",
        "        ) # output_size = 10\n",
        "\n",
        "        self.changed_output_size -= 2\n",
        "        self.convblock5 = nn.Sequential(\n",
        "            nn.Conv2d(in_channels=15, out_channels=15, kernel_size=(3, 3), padding=0, bias=False),\n",
        "            nn.ReLU(),            \n",
        "            self.normalization_layer(self.norm_type, (15, self.changed_output_size, self.changed_output_size, 3)),\n",
        "            nn.Dropout(self.dropout_value)\n",
        "        ) # output_size = 8\n",
        "\n",
        "        self.changed_output_size -= 2\n",
        "        self.convblock6 = nn.Sequential(\n",
        "            nn.Conv2d(in_channels=15, out_channels=15, kernel_size=(3, 3), padding=0, bias=False),\n",
        "            nn.ReLU(),            \n",
        "            self.normalization_layer(self.norm_type, (15, self.changed_output_size, self.changed_output_size, 3)),\n",
        "            nn.Dropout(self.dropout_value)\n",
        "        ) # output_size = 6\n",
        "        \n",
        "        # OUTPUT BLOCK\n",
        "        self.gap = nn.Sequential(\n",
        "            nn.AvgPool2d(kernel_size=6)\n",
        "        ) # output_size = 1\n",
        "              \n",
        "        self.convblock7 = nn.Sequential(\n",
        "            nn.Conv2d(in_channels=15, out_channels=10, kernel_size=(1, 1), padding=0, bias=False),\n",
        "        ) \n",
        "\n",
        "        self.dropout = nn.Dropout(self.dropout_value)\n",
        "\n",
        "    def forward(self, x):\n",
        "        x = self.convblock1(x)\n",
        "        x = self.convblock2(x)\n",
        "        x = self.convblock3(x)\n",
        "        x = self.pool1(x)\n",
        "        x = self.convblock4(x)\n",
        "        x = self.convblock5(x)\n",
        "        x = self.convblock6(x)\n",
        "        x = self.gap(x)          \n",
        "        x = self.convblock7(x)            \n",
        "\n",
        "        x = x.view(-1, 10)\n",
        "        return F.log_softmax(x, dim=-1)\n",
        "\n",
        "    # return the required normalization layer based on params\n",
        "    def normalization_layer(self, norm_type, dimensions):\n",
        "      # dimensions => C, H, W, N  (channel, height, width, Group_size for layer norm)\n",
        "\n",
        "      if NormType.BATCH_NORM == norm_type:\n",
        "        return nn.BatchNorm2d( dimensions[0] )\n",
        "      elif NormType.LAYER_NORM == norm_type:\n",
        "        dimension = [int(dimensions[0]), int(dimensions[1]), int(dimensions[2])]\n",
        "        return nn.LayerNorm( dimension, elementwise_affine=False ) # requires C, H, W\n",
        "      elif NormType.GROUP_NORM == norm_type:\n",
        "        # consider the group size in last parameter. \n",
        "        # note: Channels % group_size should be == 0\n",
        "        return nn.GroupNorm( dimensions[3], dimensions[0] ) # requires group_number, channels(C)\n",
        "      else:\n",
        "        # default Batch Norm\n",
        "        return nn.BatchNorm2d( dimensions[0] )\n"
      ],
      "metadata": {
        "id": "8n8bhJY7V7wf"
      },
      "execution_count": 18,
      "outputs": []
    },
    {
      "cell_type": "markdown",
      "source": [
        "# Check GPU Availability"
      ],
      "metadata": {
        "id": "STL2HFec2HRn"
      }
    },
    {
      "cell_type": "code",
      "metadata": {
        "id": "xdydjYTZFyi3"
      },
      "source": [
        "# Once we have GPU ready to access, the next step is getting PyTorch to use for storing data (tensors) and computing on data (performing operations on tensors).\n",
        "# test if PyTorch has access to a GPU\n",
        "use_cuda = torch.cuda.is_available()\n",
        "\n",
        "# if GPU is availble use it, if not use CPU. allocate device and assign n/w to it\n",
        "device = torch.device(\"cuda\" if use_cuda else \"cpu\")"
      ],
      "execution_count": 19,
      "outputs": []
    },
    {
      "cell_type": "markdown",
      "source": [],
      "metadata": {
        "id": "A7m_FEor277b"
      }
    },
    {
      "cell_type": "markdown",
      "source": [
        "# Model Summaries"
      ],
      "metadata": {
        "id": "HYI5wSPpbo9W"
      }
    },
    {
      "cell_type": "code",
      "source": [
        "!pip install torchsummary\n",
        "from torchsummary import summary\n",
        "\n",
        "# Check all model Summaries\n",
        "norm_options = [NormType.BATCH_NORM, NormType.LAYER_NORM, NormType.GROUP_NORM]\n",
        "\n",
        "for norm in norm_options:\n",
        "  \n",
        "  print(f\"\\nModel Summary with NormalizationType => { norm }\\n\")\n",
        "  \n",
        "  # Create model instance with required params\n",
        "  model = Net(norm_type=norm).to(device)\n",
        "\n",
        "  # Check model summary\n",
        "  summary(model, input_size=(1, 28, 28))"
      ],
      "metadata": {
        "colab": {
          "base_uri": "https://localhost:8080/"
        },
        "id": "fmGJN3VpbQBN",
        "outputId": "1b57ee19-bc04-4ced-e3ec-ce4c0ba282ba"
      },
      "execution_count": 20,
      "outputs": [
        {
          "output_type": "stream",
          "name": "stdout",
          "text": [
            "Looking in indexes: https://pypi.org/simple, https://us-python.pkg.dev/colab-wheels/public/simple/\n",
            "Requirement already satisfied: torchsummary in /usr/local/lib/python3.8/dist-packages (1.5.1)\n",
            "\n",
            "Model Summary with NormalizationType => NormType.BATCH_NORM\n",
            "\n",
            "----------------------------------------------------------------\n",
            "        Layer (type)               Output Shape         Param #\n",
            "================================================================\n",
            "            Conv2d-1            [-1, 8, 26, 26]              72\n",
            "              ReLU-2            [-1, 8, 26, 26]               0\n",
            "       BatchNorm2d-3            [-1, 8, 26, 26]              16\n",
            "           Dropout-4            [-1, 8, 26, 26]               0\n",
            "            Conv2d-5           [-1, 15, 24, 24]           1,080\n",
            "              ReLU-6           [-1, 15, 24, 24]               0\n",
            "       BatchNorm2d-7           [-1, 15, 24, 24]              30\n",
            "           Dropout-8           [-1, 15, 24, 24]               0\n",
            "            Conv2d-9           [-1, 15, 24, 24]             225\n",
            "        MaxPool2d-10           [-1, 15, 12, 12]               0\n",
            "           Conv2d-11           [-1, 15, 10, 10]           2,025\n",
            "             ReLU-12           [-1, 15, 10, 10]               0\n",
            "      BatchNorm2d-13           [-1, 15, 10, 10]              30\n",
            "          Dropout-14           [-1, 15, 10, 10]               0\n",
            "           Conv2d-15             [-1, 15, 8, 8]           2,025\n",
            "             ReLU-16             [-1, 15, 8, 8]               0\n",
            "      BatchNorm2d-17             [-1, 15, 8, 8]              30\n",
            "          Dropout-18             [-1, 15, 8, 8]               0\n",
            "           Conv2d-19             [-1, 15, 6, 6]           2,025\n",
            "             ReLU-20             [-1, 15, 6, 6]               0\n",
            "      BatchNorm2d-21             [-1, 15, 6, 6]              30\n",
            "          Dropout-22             [-1, 15, 6, 6]               0\n",
            "        AvgPool2d-23             [-1, 15, 1, 1]               0\n",
            "           Conv2d-24             [-1, 10, 1, 1]             150\n",
            "================================================================\n",
            "Total params: 7,738\n",
            "Trainable params: 7,738\n",
            "Non-trainable params: 0\n",
            "----------------------------------------------------------------\n",
            "Input size (MB): 0.00\n",
            "Forward/backward pass size (MB): 0.60\n",
            "Params size (MB): 0.03\n",
            "Estimated Total Size (MB): 0.64\n",
            "----------------------------------------------------------------\n",
            "\n",
            "Model Summary with NormalizationType => NormType.LAYER_NORM\n",
            "\n",
            "----------------------------------------------------------------\n",
            "        Layer (type)               Output Shape         Param #\n",
            "================================================================\n",
            "            Conv2d-1            [-1, 8, 26, 26]              72\n",
            "              ReLU-2            [-1, 8, 26, 26]               0\n",
            "         LayerNorm-3            [-1, 8, 26, 26]               0\n",
            "           Dropout-4            [-1, 8, 26, 26]               0\n",
            "            Conv2d-5           [-1, 15, 24, 24]           1,080\n",
            "              ReLU-6           [-1, 15, 24, 24]               0\n",
            "         LayerNorm-7           [-1, 15, 24, 24]               0\n",
            "           Dropout-8           [-1, 15, 24, 24]               0\n",
            "            Conv2d-9           [-1, 15, 24, 24]             225\n",
            "        MaxPool2d-10           [-1, 15, 12, 12]               0\n",
            "           Conv2d-11           [-1, 15, 10, 10]           2,025\n",
            "             ReLU-12           [-1, 15, 10, 10]               0\n",
            "        LayerNorm-13           [-1, 15, 10, 10]               0\n",
            "          Dropout-14           [-1, 15, 10, 10]               0\n",
            "           Conv2d-15             [-1, 15, 8, 8]           2,025\n",
            "             ReLU-16             [-1, 15, 8, 8]               0\n",
            "        LayerNorm-17             [-1, 15, 8, 8]               0\n",
            "          Dropout-18             [-1, 15, 8, 8]               0\n",
            "           Conv2d-19             [-1, 15, 6, 6]           2,025\n",
            "             ReLU-20             [-1, 15, 6, 6]               0\n",
            "        LayerNorm-21             [-1, 15, 6, 6]               0\n",
            "          Dropout-22             [-1, 15, 6, 6]               0\n",
            "        AvgPool2d-23             [-1, 15, 1, 1]               0\n",
            "           Conv2d-24             [-1, 10, 1, 1]             150\n",
            "================================================================\n",
            "Total params: 7,602\n",
            "Trainable params: 7,602\n",
            "Non-trainable params: 0\n",
            "----------------------------------------------------------------\n",
            "Input size (MB): 0.00\n",
            "Forward/backward pass size (MB): 0.60\n",
            "Params size (MB): 0.03\n",
            "Estimated Total Size (MB): 0.63\n",
            "----------------------------------------------------------------\n",
            "\n",
            "Model Summary with NormalizationType => NormType.GROUP_NORM\n",
            "\n",
            "----------------------------------------------------------------\n",
            "        Layer (type)               Output Shape         Param #\n",
            "================================================================\n",
            "            Conv2d-1            [-1, 8, 26, 26]              72\n",
            "              ReLU-2            [-1, 8, 26, 26]               0\n",
            "         GroupNorm-3            [-1, 8, 26, 26]              16\n",
            "           Dropout-4            [-1, 8, 26, 26]               0\n",
            "            Conv2d-5           [-1, 15, 24, 24]           1,080\n",
            "              ReLU-6           [-1, 15, 24, 24]               0\n",
            "         GroupNorm-7           [-1, 15, 24, 24]              30\n",
            "           Dropout-8           [-1, 15, 24, 24]               0\n",
            "            Conv2d-9           [-1, 15, 24, 24]             225\n",
            "        MaxPool2d-10           [-1, 15, 12, 12]               0\n",
            "           Conv2d-11           [-1, 15, 10, 10]           2,025\n",
            "             ReLU-12           [-1, 15, 10, 10]               0\n",
            "        GroupNorm-13           [-1, 15, 10, 10]              30\n",
            "          Dropout-14           [-1, 15, 10, 10]               0\n",
            "           Conv2d-15             [-1, 15, 8, 8]           2,025\n",
            "             ReLU-16             [-1, 15, 8, 8]               0\n",
            "        GroupNorm-17             [-1, 15, 8, 8]              30\n",
            "          Dropout-18             [-1, 15, 8, 8]               0\n",
            "           Conv2d-19             [-1, 15, 6, 6]           2,025\n",
            "             ReLU-20             [-1, 15, 6, 6]               0\n",
            "        GroupNorm-21             [-1, 15, 6, 6]              30\n",
            "          Dropout-22             [-1, 15, 6, 6]               0\n",
            "        AvgPool2d-23             [-1, 15, 1, 1]               0\n",
            "           Conv2d-24             [-1, 10, 1, 1]             150\n",
            "================================================================\n",
            "Total params: 7,738\n",
            "Trainable params: 7,738\n",
            "Non-trainable params: 0\n",
            "----------------------------------------------------------------\n",
            "Input size (MB): 0.00\n",
            "Forward/backward pass size (MB): 0.60\n",
            "Params size (MB): 0.03\n",
            "Estimated Total Size (MB): 0.64\n",
            "----------------------------------------------------------------\n"
          ]
        }
      ]
    },
    {
      "cell_type": "markdown",
      "source": [
        "# Training and Testing\n",
        "\n",
        "- Looking at logs can be boring, so we'll introduce **tqdm** progressbar to get cooler logs. \n",
        "- Let's write train and test functions"
      ],
      "metadata": {
        "id": "RYr9KlRCbW9F"
      }
    },
    {
      "cell_type": "code",
      "metadata": {
        "id": "8fDefDhaFlwH"
      },
      "source": [
        "# define train & test APIs\n",
        "\n",
        "# Tqdm is a library in Python which is used for creating Progress Meters or Progress Bars.\n",
        "from tqdm import tqdm\n",
        "\n",
        "train_losses = []\n",
        "test_losses = []\n",
        "train_acc = []\n",
        "test_acc = []\n",
        "\n",
        "def train(model, device, train_loader, optimizer, regularizer_lambda=0.01, regularizer_type=RegularizerType.NONE):\n",
        "  \n",
        "  model.train() # set the model with training mode (this is the default mode)\n",
        "\n",
        "  pbar = tqdm(train_loader)\n",
        "  correct = 0\n",
        "  processed = 0\n",
        "  for batch_idx, (data, target) in enumerate(pbar):\n",
        "    # get samples\n",
        "    data, target = data.to(device), target.to(device)\n",
        "\n",
        "    # Init. \n",
        "    optimizer.zero_grad()\n",
        "    # In PyTorch, we need to set the gradients to zero before starting to do backpropragation because PyTorch accumulates the gradients on subsequent backward passes. \n",
        "    # Because of this, when you start your training loop, ideally you should zero out the gradients so that you do the parameter update correctly.\n",
        "\n",
        "    # Predict. \n",
        "    y_pred = model(data)\n",
        "\n",
        "    # Calculate model prediction loss\n",
        "    loss = F.nll_loss(y_pred, target)\n",
        "\n",
        "    # Handle for L1 loss\n",
        "    if RegularizerType.L1 == regularizer_type:\n",
        "      l1 = 0\n",
        "      for p in model.parameters():\n",
        "        # absolute sum of all weights\n",
        "        l1 += p.abs().sum()\n",
        "      \n",
        "      # Total loss is sum of model prediction loss + L1 loss\n",
        "      loss += (regularizer_lambda * l1)\n",
        "\n",
        "    train_losses.append(loss)\n",
        "\n",
        "    # Backpropagation\n",
        "    loss.backward()\n",
        "    optimizer.step()\n",
        "\n",
        "    # Update pbar-tqdm\n",
        "    \n",
        "    pred = y_pred.argmax(dim=1, keepdim=True)  # get the index of the max log-probability\n",
        "    correct += pred.eq(target.view_as(pred)).sum().item()\n",
        "    processed += len(data)\n",
        "\n",
        "    pbar.set_description(desc= f'Loss={loss.item()} Batch_id={batch_idx} Accuracy={100*correct/processed:0.2f}')\n",
        "    train_acc.append(100*correct/processed)\n",
        "\n",
        "  return 100*correct/processed\n",
        "\n",
        "def test(model, device, test_loader):\n",
        "    model.eval()\n",
        "    test_loss = 0\n",
        "    correct = 0\n",
        "    with torch.no_grad():\n",
        "        for data, target in test_loader:\n",
        "            data, target = data.to(device), target.to(device)\n",
        "            output = model(data)\n",
        "            test_loss += F.nll_loss(output, target, reduction='sum').item()  # sum up batch loss\n",
        "            pred = output.argmax(dim=1, keepdim=True)  # get the index of the max log-probability\n",
        "            correct += pred.eq(target.view_as(pred)).sum().item()\n",
        "\n",
        "    test_loss /= len(test_loader.dataset)\n",
        "    test_losses.append(test_loss)\n",
        "\n",
        "    print('\\nTest set: Average loss: {:.4f}, Accuracy: {}/{} ({:.2f}%)\\n'.format(\n",
        "        test_loss, correct, len(test_loader.dataset),\n",
        "        100. * correct / len(test_loader.dataset)))\n",
        "    \n",
        "    test_acc.append(100. * correct / len(test_loader.dataset))\n",
        "\n",
        "    return 100. * correct / len(test_loader.dataset)\n"
      ],
      "execution_count": 21,
      "outputs": []
    },
    {
      "cell_type": "code",
      "source": [
        "# Invoke train & evaluate the model \n",
        "\n",
        "from torch.optim.lr_scheduler import StepLR\n",
        "\n",
        "def train_test_model(model, epochs=20, regularizer_lambda=0.01, regularizer_type=RegularizerType.NONE):\n",
        "\n",
        "  # create an optimizer (SGD) with required parameters, \n",
        "  # model.parameters() - these are the model parameters to optimize, \n",
        "  # learning-rate lr=0.01 and momentum-0.9\n",
        "  optimizer = optim.SGD(model.parameters(), lr=0.05, momentum=0.9)\n",
        "  scheduler = StepLR(optimizer, step_size=6, gamma=0.5)\n",
        "\n",
        "  prev_train_acc = -1\n",
        "  prev_test_acc = -1\n",
        "  train_accuracy = 0\n",
        "  test_accuracy = 0\n",
        "\n",
        "  # run single epoch as of now.\n",
        "  for epoch in range(epochs):\n",
        "      print(f'Epoch: {epoch+1}')\n",
        "\n",
        "      # train the model loaded on the device with the required optimizer\n",
        "      train_accuracy = train(\n",
        "                          model, device, train_loader, \n",
        "                          optimizer,\n",
        "                          regularizer_lambda, \n",
        "                          regularizer_type)\n",
        "\n",
        "      # set to the next lr params\n",
        "      scheduler.step()\n",
        "\n",
        "      # we need to evaluate on test data\n",
        "      test_accuracy = test(model, device, test_loader)\n",
        "\n",
        "\n",
        "      # check difference from previous accuracies for better understanding\n",
        "      if -1 == prev_train_acc:\n",
        "        prev_train_acc = train_accuracy\n",
        "      if -1 == prev_test_acc:\n",
        "        prev_test_acc = test_accuracy\n",
        "\n",
        "      print(f'train_acc_diff: {train_accuracy - prev_train_acc:.3f} test_acc_diff: {test_accuracy - prev_test_acc:.3f} test_train_diff: {test_accuracy - train_accuracy:.3f}\\n')\n",
        "      prev_train_acc = train_accuracy\n",
        "      prev_test_acc = test_accuracy\n",
        "\n",
        "  # update model metric\n",
        "  model_metric = [train_losses, test_losses, train_acc, test_acc]\n",
        "  return model_metric"
      ],
      "metadata": {
        "id": "SA2ZP1ryam3n"
      },
      "execution_count": 22,
      "outputs": []
    },
    {
      "cell_type": "code",
      "source": [
        "import copy\n",
        "\n",
        "# Check all model Summaries\n",
        "norm_options = [NormType.BATCH_NORM, NormType.LAYER_NORM, NormType.GROUP_NORM]\n",
        "norm_name = [\"BATCH_NORM\", \"LAYER_NORM\", \"GROUP_NORM\"]\n",
        "\n",
        "# evaluation metrics for different models\n",
        "evaluation_metrics = {}\n",
        "model_metric = []\n",
        "\n",
        "print(f\"\\nTrain & Evaluate different model\\n\")\n",
        "\n",
        "for ndx, norm in enumerate(norm_options):\n",
        "  \n",
        "  print(f\"\\nTrain & Test Model with NormalizationType => { norm }\\n\")\n",
        "  \n",
        "  # Create model instance with required params\n",
        "  model = Net(norm_type=norm).to(device)\n",
        "\n",
        "  # Map regularizer type as per the problem statement.\n",
        "  regularizer = RegularizerType.NONE\n",
        "  if NormType.BATCH_NORM == norm:\n",
        "    regularizer = RegularizerType.NONE\n",
        "\n",
        "  # reset to update metics for new model training\n",
        "  train_losses = []\n",
        "  test_losses = []\n",
        "  train_acc = []\n",
        "  test_acc = []\n",
        "\n",
        "  # train the test model\n",
        "  model_metric = train_test_model(\n",
        "                        model, epochs=20, \n",
        "                        regularizer_lambda=0.01, \n",
        "                        regularizer_type=regularizer)\n",
        "\n",
        "  # update final evaluation metrics for this model\n",
        "  evaluation_metrics[norm_name[ndx]] = model_metric"
      ],
      "metadata": {
        "colab": {
          "base_uri": "https://localhost:8080/"
        },
        "id": "gbX3McnfbGT1",
        "outputId": "368af9e3-29fc-4851-8ccd-56bb8f187aba"
      },
      "execution_count": 23,
      "outputs": [
        {
          "output_type": "stream",
          "name": "stdout",
          "text": [
            "\n",
            "Train & Evaluate different model\n",
            "\n",
            "\n",
            "Train & Test Model with NormalizationType => NormType.BATCH_NORM\n",
            "\n",
            "Epoch: 1\n"
          ]
        },
        {
          "output_type": "stream",
          "name": "stderr",
          "text": [
            "Loss=0.07075963169336319 Batch_id=468 Accuracy=92.36: 100%|██████████| 469/469 [00:25<00:00, 18.46it/s]\n"
          ]
        },
        {
          "output_type": "stream",
          "name": "stdout",
          "text": [
            "\n",
            "Test set: Average loss: 0.0726, Accuracy: 9765/10000 (97.65%)\n",
            "\n",
            "train_acc_diff: 0.000 test_acc_diff: 0.000 test_train_diff: 5.285\n",
            "\n",
            "Epoch: 2\n"
          ]
        },
        {
          "output_type": "stream",
          "name": "stderr",
          "text": [
            "Loss=0.03845342993736267 Batch_id=468 Accuracy=97.86: 100%|██████████| 469/469 [00:23<00:00, 19.88it/s]\n"
          ]
        },
        {
          "output_type": "stream",
          "name": "stdout",
          "text": [
            "\n",
            "Test set: Average loss: 0.0485, Accuracy: 9832/10000 (98.32%)\n",
            "\n",
            "train_acc_diff: 5.495 test_acc_diff: 0.670 test_train_diff: 0.460\n",
            "\n",
            "Epoch: 3\n"
          ]
        },
        {
          "output_type": "stream",
          "name": "stderr",
          "text": [
            "Loss=0.045731279999017715 Batch_id=468 Accuracy=98.30: 100%|██████████| 469/469 [00:20<00:00, 23.36it/s]\n"
          ]
        },
        {
          "output_type": "stream",
          "name": "stdout",
          "text": [
            "\n",
            "Test set: Average loss: 0.0404, Accuracy: 9873/10000 (98.73%)\n",
            "\n",
            "train_acc_diff: 0.437 test_acc_diff: 0.410 test_train_diff: 0.433\n",
            "\n",
            "Epoch: 4\n"
          ]
        },
        {
          "output_type": "stream",
          "name": "stderr",
          "text": [
            "Loss=0.134425550699234 Batch_id=468 Accuracy=98.41: 100%|██████████| 469/469 [00:19<00:00, 23.63it/s]\n"
          ]
        },
        {
          "output_type": "stream",
          "name": "stdout",
          "text": [
            "\n",
            "Test set: Average loss: 0.0314, Accuracy: 9899/10000 (98.99%)\n",
            "\n",
            "train_acc_diff: 0.110 test_acc_diff: 0.260 test_train_diff: 0.583\n",
            "\n",
            "Epoch: 5\n"
          ]
        },
        {
          "output_type": "stream",
          "name": "stderr",
          "text": [
            "Loss=0.0324256606400013 Batch_id=468 Accuracy=98.60: 100%|██████████| 469/469 [00:19<00:00, 23.58it/s]\n"
          ]
        },
        {
          "output_type": "stream",
          "name": "stdout",
          "text": [
            "\n",
            "Test set: Average loss: 0.0334, Accuracy: 9894/10000 (98.94%)\n",
            "\n",
            "train_acc_diff: 0.195 test_acc_diff: -0.050 test_train_diff: 0.338\n",
            "\n",
            "Epoch: 6\n"
          ]
        },
        {
          "output_type": "stream",
          "name": "stderr",
          "text": [
            "Loss=0.07301528006792068 Batch_id=468 Accuracy=98.70: 100%|██████████| 469/469 [00:20<00:00, 22.44it/s]\n"
          ]
        },
        {
          "output_type": "stream",
          "name": "stdout",
          "text": [
            "\n",
            "Test set: Average loss: 0.0301, Accuracy: 9898/10000 (98.98%)\n",
            "\n",
            "train_acc_diff: 0.097 test_acc_diff: 0.040 test_train_diff: 0.282\n",
            "\n",
            "Epoch: 7\n"
          ]
        },
        {
          "output_type": "stream",
          "name": "stderr",
          "text": [
            "Loss=0.019609132781624794 Batch_id=468 Accuracy=98.90: 100%|██████████| 469/469 [00:21<00:00, 22.33it/s]\n"
          ]
        },
        {
          "output_type": "stream",
          "name": "stdout",
          "text": [
            "\n",
            "Test set: Average loss: 0.0258, Accuracy: 9916/10000 (99.16%)\n",
            "\n",
            "train_acc_diff: 0.198 test_acc_diff: 0.180 test_train_diff: 0.263\n",
            "\n",
            "Epoch: 8\n"
          ]
        },
        {
          "output_type": "stream",
          "name": "stderr",
          "text": [
            "Loss=0.060213252902030945 Batch_id=468 Accuracy=98.96: 100%|██████████| 469/469 [00:19<00:00, 23.82it/s]\n"
          ]
        },
        {
          "output_type": "stream",
          "name": "stdout",
          "text": [
            "\n",
            "Test set: Average loss: 0.0299, Accuracy: 9902/10000 (99.02%)\n",
            "\n",
            "train_acc_diff: 0.062 test_acc_diff: -0.140 test_train_diff: 0.062\n",
            "\n",
            "Epoch: 9\n"
          ]
        },
        {
          "output_type": "stream",
          "name": "stderr",
          "text": [
            "Loss=0.05135178938508034 Batch_id=468 Accuracy=98.95: 100%|██████████| 469/469 [00:19<00:00, 24.52it/s]\n"
          ]
        },
        {
          "output_type": "stream",
          "name": "stdout",
          "text": [
            "\n",
            "Test set: Average loss: 0.0241, Accuracy: 9930/10000 (99.30%)\n",
            "\n",
            "train_acc_diff: -0.008 test_acc_diff: 0.280 test_train_diff: 0.350\n",
            "\n",
            "Epoch: 10\n"
          ]
        },
        {
          "output_type": "stream",
          "name": "stderr",
          "text": [
            "Loss=0.04345988854765892 Batch_id=468 Accuracy=99.00: 100%|██████████| 469/469 [00:19<00:00, 23.58it/s]\n"
          ]
        },
        {
          "output_type": "stream",
          "name": "stdout",
          "text": [
            "\n",
            "Test set: Average loss: 0.0254, Accuracy: 9914/10000 (99.14%)\n",
            "\n",
            "train_acc_diff: 0.053 test_acc_diff: -0.160 test_train_diff: 0.137\n",
            "\n",
            "Epoch: 11\n"
          ]
        },
        {
          "output_type": "stream",
          "name": "stderr",
          "text": [
            "Loss=0.07305237650871277 Batch_id=468 Accuracy=99.02: 100%|██████████| 469/469 [00:20<00:00, 23.00it/s]\n"
          ]
        },
        {
          "output_type": "stream",
          "name": "stdout",
          "text": [
            "\n",
            "Test set: Average loss: 0.0246, Accuracy: 9926/10000 (99.26%)\n",
            "\n",
            "train_acc_diff: 0.012 test_acc_diff: 0.120 test_train_diff: 0.245\n",
            "\n",
            "Epoch: 12\n"
          ]
        },
        {
          "output_type": "stream",
          "name": "stderr",
          "text": [
            "Loss=0.014510256238281727 Batch_id=468 Accuracy=99.04: 100%|██████████| 469/469 [00:19<00:00, 23.69it/s]\n"
          ]
        },
        {
          "output_type": "stream",
          "name": "stdout",
          "text": [
            "\n",
            "Test set: Average loss: 0.0218, Accuracy: 9925/10000 (99.25%)\n",
            "\n",
            "train_acc_diff: 0.025 test_acc_diff: -0.010 test_train_diff: 0.210\n",
            "\n",
            "Epoch: 13\n"
          ]
        },
        {
          "output_type": "stream",
          "name": "stderr",
          "text": [
            "Loss=0.01145769003778696 Batch_id=468 Accuracy=99.15: 100%|██████████| 469/469 [00:19<00:00, 24.17it/s]\n"
          ]
        },
        {
          "output_type": "stream",
          "name": "stdout",
          "text": [
            "\n",
            "Test set: Average loss: 0.0219, Accuracy: 9925/10000 (99.25%)\n",
            "\n",
            "train_acc_diff: 0.113 test_acc_diff: 0.000 test_train_diff: 0.097\n",
            "\n",
            "Epoch: 14\n"
          ]
        },
        {
          "output_type": "stream",
          "name": "stderr",
          "text": [
            "Loss=0.006122896447777748 Batch_id=468 Accuracy=99.18: 100%|██████████| 469/469 [00:19<00:00, 24.47it/s]\n"
          ]
        },
        {
          "output_type": "stream",
          "name": "stdout",
          "text": [
            "\n",
            "Test set: Average loss: 0.0204, Accuracy: 9935/10000 (99.35%)\n",
            "\n",
            "train_acc_diff: 0.023 test_acc_diff: 0.100 test_train_diff: 0.173\n",
            "\n",
            "Epoch: 15\n"
          ]
        },
        {
          "output_type": "stream",
          "name": "stderr",
          "text": [
            "Loss=0.012411258183419704 Batch_id=468 Accuracy=99.17: 100%|██████████| 469/469 [00:18<00:00, 24.81it/s]\n"
          ]
        },
        {
          "output_type": "stream",
          "name": "stdout",
          "text": [
            "\n",
            "Test set: Average loss: 0.0202, Accuracy: 9932/10000 (99.32%)\n",
            "\n",
            "train_acc_diff: -0.002 test_acc_diff: -0.030 test_train_diff: 0.145\n",
            "\n",
            "Epoch: 16\n"
          ]
        },
        {
          "output_type": "stream",
          "name": "stderr",
          "text": [
            "Loss=0.0070876083336770535 Batch_id=468 Accuracy=99.14: 100%|██████████| 469/469 [00:19<00:00, 24.07it/s]\n"
          ]
        },
        {
          "output_type": "stream",
          "name": "stdout",
          "text": [
            "\n",
            "Test set: Average loss: 0.0218, Accuracy: 9931/10000 (99.31%)\n",
            "\n",
            "train_acc_diff: -0.035 test_acc_diff: -0.010 test_train_diff: 0.170\n",
            "\n",
            "Epoch: 17\n"
          ]
        },
        {
          "output_type": "stream",
          "name": "stderr",
          "text": [
            "Loss=0.08000084012746811 Batch_id=468 Accuracy=99.20: 100%|██████████| 469/469 [00:19<00:00, 24.30it/s]\n"
          ]
        },
        {
          "output_type": "stream",
          "name": "stdout",
          "text": [
            "\n",
            "Test set: Average loss: 0.0208, Accuracy: 9929/10000 (99.29%)\n",
            "\n",
            "train_acc_diff: 0.062 test_acc_diff: -0.020 test_train_diff: 0.088\n",
            "\n",
            "Epoch: 18\n"
          ]
        },
        {
          "output_type": "stream",
          "name": "stderr",
          "text": [
            "Loss=0.006193268578499556 Batch_id=468 Accuracy=99.20: 100%|██████████| 469/469 [00:21<00:00, 22.15it/s]\n"
          ]
        },
        {
          "output_type": "stream",
          "name": "stdout",
          "text": [
            "\n",
            "Test set: Average loss: 0.0204, Accuracy: 9934/10000 (99.34%)\n",
            "\n",
            "train_acc_diff: -0.003 test_acc_diff: 0.050 test_train_diff: 0.142\n",
            "\n",
            "Epoch: 19\n"
          ]
        },
        {
          "output_type": "stream",
          "name": "stderr",
          "text": [
            "Loss=0.04911160469055176 Batch_id=468 Accuracy=99.23: 100%|██████████| 469/469 [00:21<00:00, 21.86it/s]\n"
          ]
        },
        {
          "output_type": "stream",
          "name": "stdout",
          "text": [
            "\n",
            "Test set: Average loss: 0.0198, Accuracy: 9937/10000 (99.37%)\n",
            "\n",
            "train_acc_diff: 0.028 test_acc_diff: 0.030 test_train_diff: 0.143\n",
            "\n",
            "Epoch: 20\n"
          ]
        },
        {
          "output_type": "stream",
          "name": "stderr",
          "text": [
            "Loss=0.015593089163303375 Batch_id=468 Accuracy=99.23: 100%|██████████| 469/469 [00:21<00:00, 21.90it/s]\n"
          ]
        },
        {
          "output_type": "stream",
          "name": "stdout",
          "text": [
            "\n",
            "Test set: Average loss: 0.0215, Accuracy: 9927/10000 (99.27%)\n",
            "\n",
            "train_acc_diff: 0.007 test_acc_diff: -0.100 test_train_diff: 0.037\n",
            "\n",
            "\n",
            "Train & Test Model with NormalizationType => NormType.LAYER_NORM\n",
            "\n",
            "Epoch: 1\n"
          ]
        },
        {
          "output_type": "stream",
          "name": "stderr",
          "text": [
            "Loss=0.07449358701705933 Batch_id=468 Accuracy=90.01: 100%|██████████| 469/469 [00:21<00:00, 22.30it/s]\n"
          ]
        },
        {
          "output_type": "stream",
          "name": "stdout",
          "text": [
            "\n",
            "Test set: Average loss: 0.0741, Accuracy: 9806/10000 (98.06%)\n",
            "\n",
            "train_acc_diff: 0.000 test_acc_diff: 0.000 test_train_diff: 8.050\n",
            "\n",
            "Epoch: 2\n"
          ]
        },
        {
          "output_type": "stream",
          "name": "stderr",
          "text": [
            "Loss=0.08373702317476273 Batch_id=468 Accuracy=97.65: 100%|██████████| 469/469 [00:20<00:00, 22.88it/s]\n"
          ]
        },
        {
          "output_type": "stream",
          "name": "stdout",
          "text": [
            "\n",
            "Test set: Average loss: 0.0483, Accuracy: 9858/10000 (98.58%)\n",
            "\n",
            "train_acc_diff: 7.643 test_acc_diff: 0.520 test_train_diff: 0.927\n",
            "\n",
            "Epoch: 3\n"
          ]
        },
        {
          "output_type": "stream",
          "name": "stderr",
          "text": [
            "Loss=0.02859107218682766 Batch_id=468 Accuracy=98.14: 100%|██████████| 469/469 [00:20<00:00, 22.40it/s]\n"
          ]
        },
        {
          "output_type": "stream",
          "name": "stdout",
          "text": [
            "\n",
            "Test set: Average loss: 0.0376, Accuracy: 9884/10000 (98.84%)\n",
            "\n",
            "train_acc_diff: 0.490 test_acc_diff: 0.260 test_train_diff: 0.697\n",
            "\n",
            "Epoch: 4\n"
          ]
        },
        {
          "output_type": "stream",
          "name": "stderr",
          "text": [
            "Loss=0.050722211599349976 Batch_id=468 Accuracy=98.37: 100%|██████████| 469/469 [00:20<00:00, 22.36it/s]\n"
          ]
        },
        {
          "output_type": "stream",
          "name": "stdout",
          "text": [
            "\n",
            "Test set: Average loss: 0.0299, Accuracy: 9907/10000 (99.07%)\n",
            "\n",
            "train_acc_diff: 0.225 test_acc_diff: 0.230 test_train_diff: 0.702\n",
            "\n",
            "Epoch: 5\n"
          ]
        },
        {
          "output_type": "stream",
          "name": "stderr",
          "text": [
            "Loss=0.02829689346253872 Batch_id=468 Accuracy=98.48: 100%|██████████| 469/469 [00:22<00:00, 20.97it/s]\n"
          ]
        },
        {
          "output_type": "stream",
          "name": "stdout",
          "text": [
            "\n",
            "Test set: Average loss: 0.0292, Accuracy: 9908/10000 (99.08%)\n",
            "\n",
            "train_acc_diff: 0.112 test_acc_diff: 0.010 test_train_diff: 0.600\n",
            "\n",
            "Epoch: 6\n"
          ]
        },
        {
          "output_type": "stream",
          "name": "stderr",
          "text": [
            "Loss=0.02077789045870304 Batch_id=468 Accuracy=98.59: 100%|██████████| 469/469 [00:20<00:00, 22.47it/s]\n"
          ]
        },
        {
          "output_type": "stream",
          "name": "stdout",
          "text": [
            "\n",
            "Test set: Average loss: 0.0273, Accuracy: 9917/10000 (99.17%)\n",
            "\n",
            "train_acc_diff: 0.107 test_acc_diff: 0.090 test_train_diff: 0.583\n",
            "\n",
            "Epoch: 7\n"
          ]
        },
        {
          "output_type": "stream",
          "name": "stderr",
          "text": [
            "Loss=0.07244589179754257 Batch_id=468 Accuracy=98.85: 100%|██████████| 469/469 [00:20<00:00, 22.38it/s]\n"
          ]
        },
        {
          "output_type": "stream",
          "name": "stdout",
          "text": [
            "\n",
            "Test set: Average loss: 0.0288, Accuracy: 9907/10000 (99.07%)\n",
            "\n",
            "train_acc_diff: 0.267 test_acc_diff: -0.100 test_train_diff: 0.217\n",
            "\n",
            "Epoch: 8\n"
          ]
        },
        {
          "output_type": "stream",
          "name": "stderr",
          "text": [
            "Loss=0.03306614235043526 Batch_id=468 Accuracy=98.93: 100%|██████████| 469/469 [00:20<00:00, 22.36it/s]\n"
          ]
        },
        {
          "output_type": "stream",
          "name": "stdout",
          "text": [
            "\n",
            "Test set: Average loss: 0.0250, Accuracy: 9929/10000 (99.29%)\n",
            "\n",
            "train_acc_diff: 0.080 test_acc_diff: 0.220 test_train_diff: 0.357\n",
            "\n",
            "Epoch: 9\n"
          ]
        },
        {
          "output_type": "stream",
          "name": "stderr",
          "text": [
            "Loss=0.02242274023592472 Batch_id=468 Accuracy=98.94: 100%|██████████| 469/469 [00:20<00:00, 22.37it/s]\n"
          ]
        },
        {
          "output_type": "stream",
          "name": "stdout",
          "text": [
            "\n",
            "Test set: Average loss: 0.0247, Accuracy: 9920/10000 (99.20%)\n",
            "\n",
            "train_acc_diff: 0.007 test_acc_diff: -0.090 test_train_diff: 0.260\n",
            "\n",
            "Epoch: 10\n"
          ]
        },
        {
          "output_type": "stream",
          "name": "stderr",
          "text": [
            "Loss=0.029405569657683372 Batch_id=468 Accuracy=98.94: 100%|██████████| 469/469 [00:21<00:00, 21.62it/s]\n"
          ]
        },
        {
          "output_type": "stream",
          "name": "stdout",
          "text": [
            "\n",
            "Test set: Average loss: 0.0233, Accuracy: 9933/10000 (99.33%)\n",
            "\n",
            "train_acc_diff: -0.003 test_acc_diff: 0.130 test_train_diff: 0.393\n",
            "\n",
            "Epoch: 11\n"
          ]
        },
        {
          "output_type": "stream",
          "name": "stderr",
          "text": [
            "Loss=0.01828162372112274 Batch_id=468 Accuracy=98.99: 100%|██████████| 469/469 [00:21<00:00, 21.69it/s]\n"
          ]
        },
        {
          "output_type": "stream",
          "name": "stdout",
          "text": [
            "\n",
            "Test set: Average loss: 0.0263, Accuracy: 9913/10000 (99.13%)\n",
            "\n",
            "train_acc_diff: 0.050 test_acc_diff: -0.200 test_train_diff: 0.143\n",
            "\n",
            "Epoch: 12\n"
          ]
        },
        {
          "output_type": "stream",
          "name": "stderr",
          "text": [
            "Loss=0.019912516698241234 Batch_id=468 Accuracy=98.98: 100%|██████████| 469/469 [00:21<00:00, 21.82it/s]\n"
          ]
        },
        {
          "output_type": "stream",
          "name": "stdout",
          "text": [
            "\n",
            "Test set: Average loss: 0.0237, Accuracy: 9927/10000 (99.27%)\n",
            "\n",
            "train_acc_diff: -0.005 test_acc_diff: 0.140 test_train_diff: 0.288\n",
            "\n",
            "Epoch: 13\n"
          ]
        },
        {
          "output_type": "stream",
          "name": "stderr",
          "text": [
            "Loss=0.040018338710069656 Batch_id=468 Accuracy=99.06: 100%|██████████| 469/469 [00:21<00:00, 21.74it/s]\n"
          ]
        },
        {
          "output_type": "stream",
          "name": "stdout",
          "text": [
            "\n",
            "Test set: Average loss: 0.0221, Accuracy: 9929/10000 (99.29%)\n",
            "\n",
            "train_acc_diff: 0.082 test_acc_diff: 0.020 test_train_diff: 0.227\n",
            "\n",
            "Epoch: 14\n"
          ]
        },
        {
          "output_type": "stream",
          "name": "stderr",
          "text": [
            "Loss=0.014321587048470974 Batch_id=468 Accuracy=99.12: 100%|██████████| 469/469 [00:22<00:00, 20.82it/s]\n"
          ]
        },
        {
          "output_type": "stream",
          "name": "stdout",
          "text": [
            "\n",
            "Test set: Average loss: 0.0210, Accuracy: 9932/10000 (99.32%)\n",
            "\n",
            "train_acc_diff: 0.053 test_acc_diff: 0.030 test_train_diff: 0.203\n",
            "\n",
            "Epoch: 15\n"
          ]
        },
        {
          "output_type": "stream",
          "name": "stderr",
          "text": [
            "Loss=0.02826480008661747 Batch_id=468 Accuracy=99.10: 100%|██████████| 469/469 [00:20<00:00, 22.93it/s]\n"
          ]
        },
        {
          "output_type": "stream",
          "name": "stdout",
          "text": [
            "\n",
            "Test set: Average loss: 0.0213, Accuracy: 9935/10000 (99.35%)\n",
            "\n",
            "train_acc_diff: -0.018 test_acc_diff: 0.030 test_train_diff: 0.252\n",
            "\n",
            "Epoch: 16\n"
          ]
        },
        {
          "output_type": "stream",
          "name": "stderr",
          "text": [
            "Loss=0.03002031147480011 Batch_id=468 Accuracy=99.13: 100%|██████████| 469/469 [00:20<00:00, 23.17it/s]\n"
          ]
        },
        {
          "output_type": "stream",
          "name": "stdout",
          "text": [
            "\n",
            "Test set: Average loss: 0.0202, Accuracy: 9935/10000 (99.35%)\n",
            "\n",
            "train_acc_diff: 0.032 test_acc_diff: 0.000 test_train_diff: 0.220\n",
            "\n",
            "Epoch: 17\n"
          ]
        },
        {
          "output_type": "stream",
          "name": "stderr",
          "text": [
            "Loss=0.014898203313350677 Batch_id=468 Accuracy=99.18: 100%|██████████| 469/469 [00:20<00:00, 22.52it/s]\n"
          ]
        },
        {
          "output_type": "stream",
          "name": "stdout",
          "text": [
            "\n",
            "Test set: Average loss: 0.0201, Accuracy: 9942/10000 (99.42%)\n",
            "\n",
            "train_acc_diff: 0.053 test_acc_diff: 0.070 test_train_diff: 0.237\n",
            "\n",
            "Epoch: 18\n"
          ]
        },
        {
          "output_type": "stream",
          "name": "stderr",
          "text": [
            "Loss=0.024951674044132233 Batch_id=468 Accuracy=99.15: 100%|██████████| 469/469 [00:19<00:00, 24.56it/s]\n"
          ]
        },
        {
          "output_type": "stream",
          "name": "stdout",
          "text": [
            "\n",
            "Test set: Average loss: 0.0206, Accuracy: 9940/10000 (99.40%)\n",
            "\n",
            "train_acc_diff: -0.037 test_acc_diff: -0.020 test_train_diff: 0.253\n",
            "\n",
            "Epoch: 19\n"
          ]
        },
        {
          "output_type": "stream",
          "name": "stderr",
          "text": [
            "Loss=0.05455616116523743 Batch_id=468 Accuracy=99.22: 100%|██████████| 469/469 [00:18<00:00, 25.47it/s]\n"
          ]
        },
        {
          "output_type": "stream",
          "name": "stdout",
          "text": [
            "\n",
            "Test set: Average loss: 0.0195, Accuracy: 9939/10000 (99.39%)\n",
            "\n",
            "train_acc_diff: 0.078 test_acc_diff: -0.010 test_train_diff: 0.165\n",
            "\n",
            "Epoch: 20\n"
          ]
        },
        {
          "output_type": "stream",
          "name": "stderr",
          "text": [
            "Loss=0.042111098766326904 Batch_id=468 Accuracy=99.21: 100%|██████████| 469/469 [00:18<00:00, 25.63it/s]\n"
          ]
        },
        {
          "output_type": "stream",
          "name": "stdout",
          "text": [
            "\n",
            "Test set: Average loss: 0.0202, Accuracy: 9939/10000 (99.39%)\n",
            "\n",
            "train_acc_diff: -0.015 test_acc_diff: 0.000 test_train_diff: 0.180\n",
            "\n",
            "\n",
            "Train & Test Model with NormalizationType => NormType.GROUP_NORM\n",
            "\n",
            "Epoch: 1\n"
          ]
        },
        {
          "output_type": "stream",
          "name": "stderr",
          "text": [
            "Loss=0.0871034488081932 Batch_id=468 Accuracy=89.14: 100%|██████████| 469/469 [00:18<00:00, 25.04it/s]\n"
          ]
        },
        {
          "output_type": "stream",
          "name": "stdout",
          "text": [
            "\n",
            "Test set: Average loss: 0.0666, Accuracy: 9795/10000 (97.95%)\n",
            "\n",
            "train_acc_diff: 0.000 test_acc_diff: 0.000 test_train_diff: 8.815\n",
            "\n",
            "Epoch: 2\n"
          ]
        },
        {
          "output_type": "stream",
          "name": "stderr",
          "text": [
            "Loss=0.08864050358533859 Batch_id=468 Accuracy=97.36: 100%|██████████| 469/469 [00:18<00:00, 25.95it/s]\n"
          ]
        },
        {
          "output_type": "stream",
          "name": "stdout",
          "text": [
            "\n",
            "Test set: Average loss: 0.0490, Accuracy: 9846/10000 (98.46%)\n",
            "\n",
            "train_acc_diff: 8.222 test_acc_diff: 0.510 test_train_diff: 1.103\n",
            "\n",
            "Epoch: 3\n"
          ]
        },
        {
          "output_type": "stream",
          "name": "stderr",
          "text": [
            "Loss=0.12782394886016846 Batch_id=468 Accuracy=98.05: 100%|██████████| 469/469 [00:17<00:00, 26.22it/s]\n"
          ]
        },
        {
          "output_type": "stream",
          "name": "stdout",
          "text": [
            "\n",
            "Test set: Average loss: 0.0432, Accuracy: 9857/10000 (98.57%)\n",
            "\n",
            "train_acc_diff: 0.688 test_acc_diff: 0.110 test_train_diff: 0.525\n",
            "\n",
            "Epoch: 4\n"
          ]
        },
        {
          "output_type": "stream",
          "name": "stderr",
          "text": [
            "Loss=0.03394177183508873 Batch_id=468 Accuracy=98.22: 100%|██████████| 469/469 [00:19<00:00, 24.55it/s]\n"
          ]
        },
        {
          "output_type": "stream",
          "name": "stdout",
          "text": [
            "\n",
            "Test set: Average loss: 0.0326, Accuracy: 9895/10000 (98.95%)\n",
            "\n",
            "train_acc_diff: 0.173 test_acc_diff: 0.380 test_train_diff: 0.732\n",
            "\n",
            "Epoch: 5\n"
          ]
        },
        {
          "output_type": "stream",
          "name": "stderr",
          "text": [
            "Loss=0.03300771862268448 Batch_id=468 Accuracy=98.49: 100%|██████████| 469/469 [00:18<00:00, 25.92it/s]\n"
          ]
        },
        {
          "output_type": "stream",
          "name": "stdout",
          "text": [
            "\n",
            "Test set: Average loss: 0.0274, Accuracy: 9916/10000 (99.16%)\n",
            "\n",
            "train_acc_diff: 0.273 test_acc_diff: 0.210 test_train_diff: 0.668\n",
            "\n",
            "Epoch: 6\n"
          ]
        },
        {
          "output_type": "stream",
          "name": "stderr",
          "text": [
            "Loss=0.013086728751659393 Batch_id=468 Accuracy=98.47: 100%|██████████| 469/469 [00:17<00:00, 26.37it/s]\n"
          ]
        },
        {
          "output_type": "stream",
          "name": "stdout",
          "text": [
            "\n",
            "Test set: Average loss: 0.0319, Accuracy: 9894/10000 (98.94%)\n",
            "\n",
            "train_acc_diff: -0.018 test_acc_diff: -0.220 test_train_diff: 0.467\n",
            "\n",
            "Epoch: 7\n"
          ]
        },
        {
          "output_type": "stream",
          "name": "stderr",
          "text": [
            "Loss=0.03468134626746178 Batch_id=468 Accuracy=98.84: 100%|██████████| 469/469 [00:18<00:00, 25.72it/s]\n"
          ]
        },
        {
          "output_type": "stream",
          "name": "stdout",
          "text": [
            "\n",
            "Test set: Average loss: 0.0206, Accuracy: 9922/10000 (99.22%)\n",
            "\n",
            "train_acc_diff: 0.370 test_acc_diff: 0.280 test_train_diff: 0.377\n",
            "\n",
            "Epoch: 8\n"
          ]
        },
        {
          "output_type": "stream",
          "name": "stderr",
          "text": [
            "Loss=0.02340354025363922 Batch_id=468 Accuracy=98.93: 100%|██████████| 469/469 [00:17<00:00, 26.10it/s]\n"
          ]
        },
        {
          "output_type": "stream",
          "name": "stdout",
          "text": [
            "\n",
            "Test set: Average loss: 0.0210, Accuracy: 9934/10000 (99.34%)\n",
            "\n",
            "train_acc_diff: 0.083 test_acc_diff: 0.120 test_train_diff: 0.413\n",
            "\n",
            "Epoch: 9\n"
          ]
        },
        {
          "output_type": "stream",
          "name": "stderr",
          "text": [
            "Loss=0.03708018362522125 Batch_id=468 Accuracy=98.98: 100%|██████████| 469/469 [00:18<00:00, 25.98it/s]\n"
          ]
        },
        {
          "output_type": "stream",
          "name": "stdout",
          "text": [
            "\n",
            "Test set: Average loss: 0.0209, Accuracy: 9927/10000 (99.27%)\n",
            "\n",
            "train_acc_diff: 0.050 test_acc_diff: -0.070 test_train_diff: 0.293\n",
            "\n",
            "Epoch: 10\n"
          ]
        },
        {
          "output_type": "stream",
          "name": "stderr",
          "text": [
            "Loss=0.014562682248651981 Batch_id=468 Accuracy=98.97: 100%|██████████| 469/469 [00:17<00:00, 26.25it/s]\n"
          ]
        },
        {
          "output_type": "stream",
          "name": "stdout",
          "text": [
            "\n",
            "Test set: Average loss: 0.0244, Accuracy: 9916/10000 (99.16%)\n",
            "\n",
            "train_acc_diff: -0.007 test_acc_diff: -0.110 test_train_diff: 0.190\n",
            "\n",
            "Epoch: 11\n"
          ]
        },
        {
          "output_type": "stream",
          "name": "stderr",
          "text": [
            "Loss=0.059930816292762756 Batch_id=468 Accuracy=98.95: 100%|██████████| 469/469 [00:17<00:00, 26.23it/s]\n"
          ]
        },
        {
          "output_type": "stream",
          "name": "stdout",
          "text": [
            "\n",
            "Test set: Average loss: 0.0230, Accuracy: 9925/10000 (99.25%)\n",
            "\n",
            "train_acc_diff: -0.015 test_acc_diff: 0.090 test_train_diff: 0.295\n",
            "\n",
            "Epoch: 12\n"
          ]
        },
        {
          "output_type": "stream",
          "name": "stderr",
          "text": [
            "Loss=0.013665038160979748 Batch_id=468 Accuracy=99.00: 100%|██████████| 469/469 [00:18<00:00, 25.89it/s]\n"
          ]
        },
        {
          "output_type": "stream",
          "name": "stdout",
          "text": [
            "\n",
            "Test set: Average loss: 0.0198, Accuracy: 9933/10000 (99.33%)\n",
            "\n",
            "train_acc_diff: 0.047 test_acc_diff: 0.080 test_train_diff: 0.328\n",
            "\n",
            "Epoch: 13\n"
          ]
        },
        {
          "output_type": "stream",
          "name": "stderr",
          "text": [
            "Loss=0.009842639788985252 Batch_id=468 Accuracy=99.11: 100%|██████████| 469/469 [00:18<00:00, 25.19it/s]\n"
          ]
        },
        {
          "output_type": "stream",
          "name": "stdout",
          "text": [
            "\n",
            "Test set: Average loss: 0.0203, Accuracy: 9934/10000 (99.34%)\n",
            "\n",
            "train_acc_diff: 0.105 test_acc_diff: 0.010 test_train_diff: 0.233\n",
            "\n",
            "Epoch: 14\n"
          ]
        },
        {
          "output_type": "stream",
          "name": "stderr",
          "text": [
            "Loss=0.003637716406956315 Batch_id=468 Accuracy=99.15: 100%|██████████| 469/469 [00:19<00:00, 24.09it/s]\n"
          ]
        },
        {
          "output_type": "stream",
          "name": "stdout",
          "text": [
            "\n",
            "Test set: Average loss: 0.0192, Accuracy: 9938/10000 (99.38%)\n",
            "\n",
            "train_acc_diff: 0.040 test_acc_diff: 0.040 test_train_diff: 0.233\n",
            "\n",
            "Epoch: 15\n"
          ]
        },
        {
          "output_type": "stream",
          "name": "stderr",
          "text": [
            "Loss=0.02974279783666134 Batch_id=468 Accuracy=99.16: 100%|██████████| 469/469 [00:17<00:00, 26.33it/s]\n"
          ]
        },
        {
          "output_type": "stream",
          "name": "stdout",
          "text": [
            "\n",
            "Test set: Average loss: 0.0170, Accuracy: 9942/10000 (99.42%)\n",
            "\n",
            "train_acc_diff: 0.012 test_acc_diff: 0.040 test_train_diff: 0.262\n",
            "\n",
            "Epoch: 16\n"
          ]
        },
        {
          "output_type": "stream",
          "name": "stderr",
          "text": [
            "Loss=0.009541562758386135 Batch_id=468 Accuracy=99.17: 100%|██████████| 469/469 [00:17<00:00, 26.27it/s]\n"
          ]
        },
        {
          "output_type": "stream",
          "name": "stdout",
          "text": [
            "\n",
            "Test set: Average loss: 0.0173, Accuracy: 9943/10000 (99.43%)\n",
            "\n",
            "train_acc_diff: 0.013 test_acc_diff: 0.010 test_train_diff: 0.258\n",
            "\n",
            "Epoch: 17\n"
          ]
        },
        {
          "output_type": "stream",
          "name": "stderr",
          "text": [
            "Loss=0.009921293705701828 Batch_id=468 Accuracy=99.21: 100%|██████████| 469/469 [00:18<00:00, 25.66it/s]\n"
          ]
        },
        {
          "output_type": "stream",
          "name": "stdout",
          "text": [
            "\n",
            "Test set: Average loss: 0.0181, Accuracy: 9940/10000 (99.40%)\n",
            "\n",
            "train_acc_diff: 0.035 test_acc_diff: -0.030 test_train_diff: 0.193\n",
            "\n",
            "Epoch: 18\n"
          ]
        },
        {
          "output_type": "stream",
          "name": "stderr",
          "text": [
            "Loss=0.057004719972610474 Batch_id=468 Accuracy=99.22: 100%|██████████| 469/469 [00:18<00:00, 25.90it/s]\n"
          ]
        },
        {
          "output_type": "stream",
          "name": "stdout",
          "text": [
            "\n",
            "Test set: Average loss: 0.0175, Accuracy: 9940/10000 (99.40%)\n",
            "\n",
            "train_acc_diff: 0.013 test_acc_diff: 0.000 test_train_diff: 0.180\n",
            "\n",
            "Epoch: 19\n"
          ]
        },
        {
          "output_type": "stream",
          "name": "stderr",
          "text": [
            "Loss=0.016405874863266945 Batch_id=468 Accuracy=99.25: 100%|██████████| 469/469 [00:17<00:00, 26.31it/s]\n"
          ]
        },
        {
          "output_type": "stream",
          "name": "stdout",
          "text": [
            "\n",
            "Test set: Average loss: 0.0173, Accuracy: 9941/10000 (99.41%)\n",
            "\n",
            "train_acc_diff: 0.032 test_acc_diff: 0.010 test_train_diff: 0.158\n",
            "\n",
            "Epoch: 20\n"
          ]
        },
        {
          "output_type": "stream",
          "name": "stderr",
          "text": [
            "Loss=0.018167752772569656 Batch_id=468 Accuracy=99.27: 100%|██████████| 469/469 [00:18<00:00, 26.04it/s]\n"
          ]
        },
        {
          "output_type": "stream",
          "name": "stdout",
          "text": [
            "\n",
            "Test set: Average loss: 0.0176, Accuracy: 9941/10000 (99.41%)\n",
            "\n",
            "train_acc_diff: 0.013 test_acc_diff: 0.000 test_train_diff: 0.145\n",
            "\n"
          ]
        }
      ]
    },
    {
      "cell_type": "markdown",
      "source": [
        "# Plot the model's learning progress\n",
        "\n",
        "- Plot training and test accuracies of all models"
      ],
      "metadata": {
        "id": "ohFyeQM14S4v"
      }
    },
    {
      "cell_type": "code",
      "source": [
        "%matplotlib inline\n",
        "import matplotlib.pyplot as plt\n",
        "\n",
        "plt.rcParams['figure.figsize'] = [15, 6]\n",
        "\n",
        "for name in norm_name:\n",
        "  \n",
        "  train_losses  = evaluation_metrics[name][0]\n",
        "  test_losses   = evaluation_metrics[name][1]\n",
        "  train_acc     = evaluation_metrics[name][2]\n",
        "  test_acc      = evaluation_metrics[name][3]\n",
        "\n",
        "  plt.subplot(2,2, 1)\n",
        "\n",
        "  plt.plot(test_acc)\n",
        "  plt.legend(norm_name)\n",
        "  plt.title(\"Test Accuracy\")\n",
        "\n",
        "  plt.xlabel('Epoch')\n",
        "  plt.ylabel('Accuracy')\n",
        "\n",
        "  plt.subplot(1,2,2)\n",
        "  plt.plot(test_losses)\n",
        "  plt.legend(norm_name)\n",
        "  plt.title('Test Loss')\n",
        "  plt.xlabel('Epoch')\n",
        "  plt.ylabel('Loss')\n"
      ],
      "metadata": {
        "id": "hXerw0vF4cVS",
        "colab": {
          "base_uri": "https://localhost:8080/",
          "height": 497
        },
        "outputId": "2e6e4d53-c262-46a5-ec7e-a1a5943735db"
      },
      "execution_count": 24,
      "outputs": [
        {
          "output_type": "stream",
          "name": "stderr",
          "text": [
            "<ipython-input-24-d4840e90c6c3>:13: MatplotlibDeprecationWarning: Adding an axes using the same arguments as a previous axes currently reuses the earlier instance.  In a future version, a new instance will always be created and returned.  Meanwhile, this warning can be suppressed, and the future behavior ensured, by passing a unique label to each axes instance.\n",
            "  plt.subplot(2,2, 1)\n",
            "<ipython-input-24-d4840e90c6c3>:22: MatplotlibDeprecationWarning: Adding an axes using the same arguments as a previous axes currently reuses the earlier instance.  In a future version, a new instance will always be created and returned.  Meanwhile, this warning can be suppressed, and the future behavior ensured, by passing a unique label to each axes instance.\n",
            "  plt.subplot(1,2,2)\n"
          ]
        },
        {
          "output_type": "display_data",
          "data": {
            "text/plain": [
              "<Figure size 1080x432 with 2 Axes>"
            ],
            "image/png": "[encoded data removed]"
          },
          "metadata": {
            "needs_background": "light"
          }
        }
      ]
    },
    {
      "cell_type": "markdown",
      "source": [
        "# Move tesnors to numpy as required\n",
        "\n",
        "- train_losses is a list, but train_losses[i] is a tensor\n",
        "- all others are numpy\n",
        "\n",
        "## APIs to use\n",
        "\n",
        "- To go from np.array to cpu Tensor    => torch.from_numpy().\n",
        "- To go from cpu Tensor to gpu Tensor  => .cuda()\n",
        "- To go from a Tensor that requires_grad to one that does not => .detach() \n",
        "- To go from a gpu Tensor to cpu Tensor => .cpu()\n",
        "- To gp from a cpu Tensor to np.array   => .numpy()"
      ],
      "metadata": {
        "id": "RrWvGDmWjsNv"
      }
    },
    {
      "cell_type": "code",
      "source": [],
      "metadata": {
        "id": "55IDwQYrjsqy"
      },
      "execution_count": 24,
      "outputs": []
    }
  ]
}