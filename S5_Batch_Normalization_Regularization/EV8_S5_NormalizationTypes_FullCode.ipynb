{
  "nbformat": 4,
  "nbformat_minor": 0,
  "metadata": {
    "colab": {
      "provenance": []
    },
    "kernelspec": {
      "name": "python3",
      "display_name": "Python 3"
    },
    "accelerator": "GPU",
    "gpuClass": "standard"
  },
  "cells": [
    {
      "cell_type": "markdown",
      "source": [
        "\n",
        "## Problem Statement\n",
        "\n",
        "- Write a single model.py file that includes GN/LN/BN and takes an argument to decide which normalization to include\n",
        "- Write a single notebook file to run all the 3 models above for 20 epochs each\n",
        "- Create these graphs:\n",
        "  Graph 1: Test/Validation Loss for all 3 models together\n",
        "  Graph 2: Test/Validation Accuracy for 3 models together\n",
        "  graphs must have proper annotation\n",
        "\n",
        "- Find 10 misclassified images for each of the 3 models, and show them as a 5x2 image matrix in 3 separately annotated images. "
      ],
      "metadata": {
        "id": "aJQ7PTNBwYio"
      }
    },
    {
      "cell_type": "markdown",
      "source": [
        "# Import Libraries"
      ],
      "metadata": {
        "id": "JiDBqSWLy4S7"
      }
    },
    {
      "cell_type": "code",
      "metadata": {
        "id": "0m2JWFliFfKT"
      },
      "source": [
        "# import all the required torch functions\n",
        "from __future__ import print_function\n",
        "import torch\n",
        "import torch.nn as nn\n",
        "import torch.nn.functional as F\n",
        "import torch.optim as optim\n",
        "from torchvision import datasets, transforms\n",
        "\n",
        "from enum import Enum"
      ],
      "execution_count": 13,
      "outputs": []
    },
    {
      "cell_type": "markdown",
      "source": [
        "\n",
        "# Include Data Transformations\n",
        "\n",
        "- We first start with defining our data transformations.\n",
        "- We need to think what our data is and how can we augment it to represent  represent correctly which it might not see otherwise. "
      ],
      "metadata": {
        "id": "zBdJxtnmxhsU"
      }
    },
    {
      "cell_type": "code",
      "source": [
        "# Train Phase transformations\n",
        "train_transforms = transforms.Compose([\n",
        "                            #  transforms.Resize((28, 28)),\n",
        "                            #  transforms.ColorJitter(brightness=0.10, contrast=0.1, saturation=0.10, hue=0.1),\n",
        "                            transforms.RandomRotation((-10.0, 10.0), fill=(1,)),\n",
        "                            transforms.ToTensor(),\n",
        "                            transforms.Normalize((0.1307,), (0.3081,)) # The mean and std have to be sequences (e.g., tuples), therefore you should add a comma after the values. \n",
        "                            # Note the difference between (0.1307) and (0.1307,)\n",
        "                        ])\n",
        "\n",
        "# Test Phase transformations\n",
        "test_transforms = transforms.Compose([\n",
        "                            #  transforms.Resize((28, 28)),\n",
        "                            #  transforms.ColorJitter(brightness=0.10, contrast=0.1, saturation=0.10, hue=0.1),\n",
        "                            transforms.ToTensor(),\n",
        "                            transforms.Normalize((0.1307,), (0.3081,))\n",
        "                        ])"
      ],
      "metadata": {
        "id": "zlNdaa4FzCP-"
      },
      "execution_count": 14,
      "outputs": []
    },
    {
      "cell_type": "markdown",
      "source": [
        "# Dataset and Creating Train/Test Split"
      ],
      "metadata": {
        "id": "ZZlMLiljzGJm"
      }
    },
    {
      "cell_type": "code",
      "source": [
        "train = datasets.MNIST('./data', train=True, download=True, transform=train_transforms)\n",
        "test = datasets.MNIST('./data', train=False, download=True, transform=test_transforms)"
      ],
      "metadata": {
        "id": "wa7KdPfCzLJc"
      },
      "execution_count": 15,
      "outputs": []
    },
    {
      "cell_type": "markdown",
      "source": [
        "# Check for GPU availability"
      ],
      "metadata": {
        "id": "1hHiUa_v0d90"
      }
    },
    {
      "cell_type": "code",
      "source": [
        "SEED = 1\n",
        "\n",
        "# CUDA? Check for GPU availability\n",
        "cuda = torch.cuda.is_available()\n",
        "print(\"CUDA Available?\", cuda)\n",
        "\n",
        "# Setup Seed, for reproducibility\n",
        "torch.manual_seed(SEED)\n",
        "\n",
        "if cuda:\n",
        "    torch.cuda.manual_seed(SEED)"
      ],
      "metadata": {
        "colab": {
          "base_uri": "https://localhost:8080/"
        },
        "id": "MjpXhFWt0gls",
        "outputId": "b323a6b5-83c2-4d77-bf2c-deccf3ddbf02"
      },
      "execution_count": 16,
      "outputs": [
        {
          "output_type": "stream",
          "name": "stdout",
          "text": [
            "CUDA Available? True\n"
          ]
        }
      ]
    },
    {
      "cell_type": "markdown",
      "source": [
        "# Dataloader Arguments & Test/Train Dataloaders"
      ],
      "metadata": {
        "id": "WL-4GlmozcFb"
      }
    },
    {
      "cell_type": "code",
      "source": [
        "# dataloader arguments - something you'll fetch these from cmdprmt\n",
        "dataloader_args = dict(shuffle=True, batch_size=128, num_workers=4, pin_memory=True) if cuda else dict(shuffle=True, batch_size=64)\n",
        "\n",
        "# train dataloader\n",
        "train_loader = torch.utils.data.DataLoader(train, **dataloader_args)\n",
        "\n",
        "# test dataloader\n",
        "test_loader = torch.utils.data.DataLoader(test, **dataloader_args)"
      ],
      "metadata": {
        "id": "DiyHHhXnzgWy"
      },
      "execution_count": 17,
      "outputs": []
    },
    {
      "cell_type": "markdown",
      "source": [
        "# The Model\n",
        "\n",
        "- Let's start with model from where we achieved < 20K params (Earlier assignment S3) "
      ],
      "metadata": {
        "id": "9nUBpjxW1D-O"
      }
    },
    {
      "cell_type": "code",
      "source": [
        "class NormType(Enum):  \n",
        "  BATCH_NORM = 1\n",
        "  LAYER_NORM = 2\n",
        "  GROUP_NORM = 3\n",
        "\n",
        "class RegularizerType(Enum):  \n",
        "  NONE = 1\n",
        "  L1 = 2\n",
        "  L2 = 3\n",
        "\n",
        "class Net(nn.Module):\n",
        "\n",
        "    def __init__(self, input_shape = (1, 28, 28), norm_type=NormType.BATCH_NORM, dropout_value=0.05):\n",
        "        super(Net, self).__init__()\n",
        "\n",
        "        # store the norm type for this instance. Control the code based on it\n",
        "        self.norm_type = norm_type \n",
        "        self.dropout_value = dropout_value\n",
        "        self.input_shape = input_shape\n",
        "        self.changed_output_size = int(input_shape[1])\n",
        "        self.norm_type = norm_type\n",
        "\n",
        "        # Input Block\n",
        "        self.changed_output_size -= 2 #based on conv2d params\n",
        "        self.convblock1 = nn.Sequential(\n",
        "            nn.Conv2d(in_channels=1, out_channels=8, kernel_size=(3, 3), padding=0, bias=False),\n",
        "            nn.ReLU(),            \n",
        "            self.normalization_layer(self.norm_type, (8, self.changed_output_size, self.changed_output_size, 2)),\n",
        "            nn.Dropout(self.dropout_value)\n",
        "        ) # output_size = 26\n",
        "\n",
        "        # CONVOLUTION BLOCK 1\n",
        "        self.changed_output_size -= 2\n",
        "        self.convblock2 = nn.Sequential(\n",
        "            nn.Conv2d(in_channels=8, out_channels=15, kernel_size=(3, 3), padding=0, bias=False),\n",
        "            nn.ReLU(),\n",
        "            self.normalization_layer(self.norm_type, (15, self.changed_output_size, self.changed_output_size, 3)),\n",
        "            nn.Dropout(self.dropout_value)\n",
        "        ) # output_size = 24\n",
        "\n",
        "        # TRANSITION BLOCK 1\n",
        "        self.convblock3 = nn.Sequential(\n",
        "            nn.Conv2d(in_channels=15, out_channels=15, kernel_size=(1, 1), padding=0, bias=False),\n",
        "        ) # output_size = 24\n",
        "\n",
        "        self.pool1 = nn.MaxPool2d(2, 2) # output_size = 12\n",
        "        self.changed_output_size /= 2\n",
        "\n",
        "        # CONVOLUTION BLOCK 2\n",
        "        self.changed_output_size -= 2\n",
        "        self.convblock4 = nn.Sequential(\n",
        "            nn.Conv2d(in_channels=15, out_channels=15, kernel_size=(3, 3), padding=0, bias=False),\n",
        "            nn.ReLU(),            \n",
        "            self.normalization_layer(self.norm_type, (15, self.changed_output_size, self.changed_output_size, 3)),\n",
        "            nn.Dropout(self.dropout_value)\n",
        "        ) # output_size = 10\n",
        "\n",
        "        self.changed_output_size -= 2\n",
        "        self.convblock5 = nn.Sequential(\n",
        "            nn.Conv2d(in_channels=15, out_channels=15, kernel_size=(3, 3), padding=0, bias=False),\n",
        "            nn.ReLU(),            \n",
        "            self.normalization_layer(self.norm_type, (15, self.changed_output_size, self.changed_output_size, 3)),\n",
        "            nn.Dropout(self.dropout_value)\n",
        "        ) # output_size = 8\n",
        "\n",
        "        self.changed_output_size -= 2\n",
        "        self.convblock6 = nn.Sequential(\n",
        "            nn.Conv2d(in_channels=15, out_channels=15, kernel_size=(3, 3), padding=0, bias=False),\n",
        "            nn.ReLU(),            \n",
        "            self.normalization_layer(self.norm_type, (15, self.changed_output_size, self.changed_output_size, 3)),\n",
        "            nn.Dropout(self.dropout_value)\n",
        "        ) # output_size = 6\n",
        "        \n",
        "        # OUTPUT BLOCK\n",
        "        self.gap = nn.Sequential(\n",
        "            nn.AvgPool2d(kernel_size=6)\n",
        "        ) # output_size = 1\n",
        "              \n",
        "        self.convblock7 = nn.Sequential(\n",
        "            nn.Conv2d(in_channels=15, out_channels=10, kernel_size=(1, 1), padding=0, bias=False),\n",
        "        ) \n",
        "\n",
        "        self.dropout = nn.Dropout(self.dropout_value)\n",
        "\n",
        "    def forward(self, x):\n",
        "        x = self.convblock1(x)\n",
        "        x = self.convblock2(x)\n",
        "        x = self.convblock3(x)\n",
        "        x = self.pool1(x)\n",
        "        x = self.convblock4(x)\n",
        "        x = self.convblock5(x)\n",
        "        x = self.convblock6(x)\n",
        "        x = self.gap(x)          \n",
        "        x = self.convblock7(x)            \n",
        "\n",
        "        x = x.view(-1, 10)\n",
        "        return F.log_softmax(x, dim=-1)\n",
        "\n",
        "    def normalization_layer(self, norm_type, dimensions):\n",
        "      # dimensions => C, H, W, N  (channel, height, width, Group_size for layer norm)\n",
        "\n",
        "      if NormType.BATCH_NORM == norm_type:\n",
        "        return nn.BatchNorm2d( dimensions[0] )\n",
        "      elif NormType.LAYER_NORM == norm_type:\n",
        "        dimension = [int(dimensions[0]), int(dimensions[1]), int(dimensions[2])]\n",
        "        return nn.LayerNorm( dimension, elementwise_affine=False ) # requires C, H, W\n",
        "      elif NormType.GROUP_NORM == norm_type:\n",
        "        # consider the group size in last parameter. \n",
        "        # note: Channels % group_size should be == 0\n",
        "        return nn.GroupNorm( dimensions[3], dimensions[0] ) # requires group_number, channels(C)\n",
        "      else:\n",
        "        # default Batch Norm\n",
        "        return nn.BatchNorm2d( dimensions[0] )\n"
      ],
      "metadata": {
        "id": "8n8bhJY7V7wf"
      },
      "execution_count": 18,
      "outputs": []
    },
    {
      "cell_type": "markdown",
      "source": [
        "# Check GPU Availability"
      ],
      "metadata": {
        "id": "STL2HFec2HRn"
      }
    },
    {
      "cell_type": "code",
      "metadata": {
        "id": "xdydjYTZFyi3"
      },
      "source": [
        "# Once we have GPU ready to access, the next step is getting PyTorch to use for storing data (tensors) and computing on data (performing operations on tensors).\n",
        "# test if PyTorch has access to a GPU\n",
        "use_cuda = torch.cuda.is_available()\n",
        "\n",
        "# if GPU is availble use it, if not use CPU. allocate device and assign n/w to it\n",
        "device = torch.device(\"cuda\" if use_cuda else \"cpu\")"
      ],
      "execution_count": 19,
      "outputs": []
    },
    {
      "cell_type": "markdown",
      "source": [],
      "metadata": {
        "id": "A7m_FEor277b"
      }
    },
    {
      "cell_type": "markdown",
      "source": [
        "# Model Summaries"
      ],
      "metadata": {
        "id": "HYI5wSPpbo9W"
      }
    },
    {
      "cell_type": "code",
      "source": [
        "!pip install torchsummary\n",
        "from torchsummary import summary\n",
        "\n",
        "# Check all model Summaries\n",
        "norm_options = [NormType.BATCH_NORM, NormType.LAYER_NORM, NormType.GROUP_NORM]\n",
        "\n",
        "for norm in norm_options:\n",
        "  \n",
        "  print(f\"\\nModel Summary with NormalizationType => { norm }\\n\")\n",
        "  \n",
        "  # Create model instance with required params\n",
        "  model = Net(norm_type=norm).to(device)\n",
        "\n",
        "  # Check model summary\n",
        "  summary(model, input_size=(1, 28, 28))"
      ],
      "metadata": {
        "colab": {
          "base_uri": "https://localhost:8080/"
        },
        "id": "fmGJN3VpbQBN",
        "outputId": "361529e7-4d38-43c4-ca8f-1c4395e740f9"
      },
      "execution_count": 20,
      "outputs": [
        {
          "output_type": "stream",
          "name": "stdout",
          "text": [
            "Looking in indexes: https://pypi.org/simple, https://us-python.pkg.dev/colab-wheels/public/simple/\n",
            "Requirement already satisfied: torchsummary in /usr/local/lib/python3.8/dist-packages (1.5.1)\n",
            "\n",
            "Model Summary with NormalizationType => NormType.BATCH_NORM\n",
            "\n",
            "----------------------------------------------------------------\n",
            "        Layer (type)               Output Shape         Param #\n",
            "================================================================\n",
            "            Conv2d-1            [-1, 8, 26, 26]              72\n",
            "              ReLU-2            [-1, 8, 26, 26]               0\n",
            "       BatchNorm2d-3            [-1, 8, 26, 26]              16\n",
            "           Dropout-4            [-1, 8, 26, 26]               0\n",
            "            Conv2d-5           [-1, 15, 24, 24]           1,080\n",
            "              ReLU-6           [-1, 15, 24, 24]               0\n",
            "       BatchNorm2d-7           [-1, 15, 24, 24]              30\n",
            "           Dropout-8           [-1, 15, 24, 24]               0\n",
            "            Conv2d-9           [-1, 15, 24, 24]             225\n",
            "        MaxPool2d-10           [-1, 15, 12, 12]               0\n",
            "           Conv2d-11           [-1, 15, 10, 10]           2,025\n",
            "             ReLU-12           [-1, 15, 10, 10]               0\n",
            "      BatchNorm2d-13           [-1, 15, 10, 10]              30\n",
            "          Dropout-14           [-1, 15, 10, 10]               0\n",
            "           Conv2d-15             [-1, 15, 8, 8]           2,025\n",
            "             ReLU-16             [-1, 15, 8, 8]               0\n",
            "      BatchNorm2d-17             [-1, 15, 8, 8]              30\n",
            "          Dropout-18             [-1, 15, 8, 8]               0\n",
            "           Conv2d-19             [-1, 15, 6, 6]           2,025\n",
            "             ReLU-20             [-1, 15, 6, 6]               0\n",
            "      BatchNorm2d-21             [-1, 15, 6, 6]              30\n",
            "          Dropout-22             [-1, 15, 6, 6]               0\n",
            "        AvgPool2d-23             [-1, 15, 1, 1]               0\n",
            "           Conv2d-24             [-1, 10, 1, 1]             150\n",
            "================================================================\n",
            "Total params: 7,738\n",
            "Trainable params: 7,738\n",
            "Non-trainable params: 0\n",
            "----------------------------------------------------------------\n",
            "Input size (MB): 0.00\n",
            "Forward/backward pass size (MB): 0.60\n",
            "Params size (MB): 0.03\n",
            "Estimated Total Size (MB): 0.64\n",
            "----------------------------------------------------------------\n",
            "\n",
            "Model Summary with NormalizationType => NormType.LAYER_NORM\n",
            "\n",
            "----------------------------------------------------------------\n",
            "        Layer (type)               Output Shape         Param #\n",
            "================================================================\n",
            "            Conv2d-1            [-1, 8, 26, 26]              72\n",
            "              ReLU-2            [-1, 8, 26, 26]               0\n",
            "         LayerNorm-3            [-1, 8, 26, 26]               0\n",
            "           Dropout-4            [-1, 8, 26, 26]               0\n",
            "            Conv2d-5           [-1, 15, 24, 24]           1,080\n",
            "              ReLU-6           [-1, 15, 24, 24]               0\n",
            "         LayerNorm-7           [-1, 15, 24, 24]               0\n",
            "           Dropout-8           [-1, 15, 24, 24]               0\n",
            "            Conv2d-9           [-1, 15, 24, 24]             225\n",
            "        MaxPool2d-10           [-1, 15, 12, 12]               0\n",
            "           Conv2d-11           [-1, 15, 10, 10]           2,025\n",
            "             ReLU-12           [-1, 15, 10, 10]               0\n",
            "        LayerNorm-13           [-1, 15, 10, 10]               0\n",
            "          Dropout-14           [-1, 15, 10, 10]               0\n",
            "           Conv2d-15             [-1, 15, 8, 8]           2,025\n",
            "             ReLU-16             [-1, 15, 8, 8]               0\n",
            "        LayerNorm-17             [-1, 15, 8, 8]               0\n",
            "          Dropout-18             [-1, 15, 8, 8]               0\n",
            "           Conv2d-19             [-1, 15, 6, 6]           2,025\n",
            "             ReLU-20             [-1, 15, 6, 6]               0\n",
            "        LayerNorm-21             [-1, 15, 6, 6]               0\n",
            "          Dropout-22             [-1, 15, 6, 6]               0\n",
            "        AvgPool2d-23             [-1, 15, 1, 1]               0\n",
            "           Conv2d-24             [-1, 10, 1, 1]             150\n",
            "================================================================\n",
            "Total params: 7,602\n",
            "Trainable params: 7,602\n",
            "Non-trainable params: 0\n",
            "----------------------------------------------------------------\n",
            "Input size (MB): 0.00\n",
            "Forward/backward pass size (MB): 0.60\n",
            "Params size (MB): 0.03\n",
            "Estimated Total Size (MB): 0.63\n",
            "----------------------------------------------------------------\n",
            "\n",
            "Model Summary with NormalizationType => NormType.GROUP_NORM\n",
            "\n",
            "----------------------------------------------------------------\n",
            "        Layer (type)               Output Shape         Param #\n",
            "================================================================\n",
            "            Conv2d-1            [-1, 8, 26, 26]              72\n",
            "              ReLU-2            [-1, 8, 26, 26]               0\n",
            "         GroupNorm-3            [-1, 8, 26, 26]              16\n",
            "           Dropout-4            [-1, 8, 26, 26]               0\n",
            "            Conv2d-5           [-1, 15, 24, 24]           1,080\n",
            "              ReLU-6           [-1, 15, 24, 24]               0\n",
            "         GroupNorm-7           [-1, 15, 24, 24]              30\n",
            "           Dropout-8           [-1, 15, 24, 24]               0\n",
            "            Conv2d-9           [-1, 15, 24, 24]             225\n",
            "        MaxPool2d-10           [-1, 15, 12, 12]               0\n",
            "           Conv2d-11           [-1, 15, 10, 10]           2,025\n",
            "             ReLU-12           [-1, 15, 10, 10]               0\n",
            "        GroupNorm-13           [-1, 15, 10, 10]              30\n",
            "          Dropout-14           [-1, 15, 10, 10]               0\n",
            "           Conv2d-15             [-1, 15, 8, 8]           2,025\n",
            "             ReLU-16             [-1, 15, 8, 8]               0\n",
            "        GroupNorm-17             [-1, 15, 8, 8]              30\n",
            "          Dropout-18             [-1, 15, 8, 8]               0\n",
            "           Conv2d-19             [-1, 15, 6, 6]           2,025\n",
            "             ReLU-20             [-1, 15, 6, 6]               0\n",
            "        GroupNorm-21             [-1, 15, 6, 6]              30\n",
            "          Dropout-22             [-1, 15, 6, 6]               0\n",
            "        AvgPool2d-23             [-1, 15, 1, 1]               0\n",
            "           Conv2d-24             [-1, 10, 1, 1]             150\n",
            "================================================================\n",
            "Total params: 7,738\n",
            "Trainable params: 7,738\n",
            "Non-trainable params: 0\n",
            "----------------------------------------------------------------\n",
            "Input size (MB): 0.00\n",
            "Forward/backward pass size (MB): 0.60\n",
            "Params size (MB): 0.03\n",
            "Estimated Total Size (MB): 0.64\n",
            "----------------------------------------------------------------\n"
          ]
        }
      ]
    },
    {
      "cell_type": "markdown",
      "source": [
        "# Training and Testing\n",
        "\n",
        "- Looking at logs can be boring, so we'll introduce **tqdm** progressbar to get cooler logs. \n",
        "- Let's write train and test functions"
      ],
      "metadata": {
        "id": "RYr9KlRCbW9F"
      }
    },
    {
      "cell_type": "code",
      "metadata": {
        "id": "8fDefDhaFlwH"
      },
      "source": [
        "# define train & test APIs\n",
        "\n",
        "# Tqdm is a library in Python which is used for creating Progress Meters or Progress Bars.\n",
        "from tqdm import tqdm\n",
        "\n",
        "train_losses = []\n",
        "test_losses = []\n",
        "train_acc = []\n",
        "test_acc = []\n",
        "\n",
        "def train(model, device, train_loader, optimizer, epoch, regularizer_lambda=0.01, regularizer_type=RegularizerType.NONE):\n",
        "  \n",
        "  model.train() # set the model with training mode (this is the default mode)\n",
        "\n",
        "  pbar = tqdm(train_loader)\n",
        "  correct = 0\n",
        "  processed = 0\n",
        "  for batch_idx, (data, target) in enumerate(pbar):\n",
        "    # get samples\n",
        "    data, target = data.to(device), target.to(device)\n",
        "\n",
        "    # Init. \n",
        "    optimizer.zero_grad()\n",
        "    # In PyTorch, we need to set the gradients to zero before starting to do backpropragation because PyTorch accumulates the gradients on subsequent backward passes. \n",
        "    # Because of this, when you start your training loop, ideally you should zero out the gradients so that you do the parameter update correctly.\n",
        "\n",
        "    # Predict. \n",
        "    y_pred = model(data)\n",
        "\n",
        "    # Calculate model prediction loss\n",
        "    loss = F.nll_loss(y_pred, target)\n",
        "\n",
        "    # Handle for L1 loss\n",
        "    if RegularizerType.L1 == regularizer_type:\n",
        "      l1 = 0\n",
        "      for p in model.parameters():\n",
        "        # absolute sum of all weights\n",
        "        l1 += torch.norm(p)\n",
        "      \n",
        "      # Total loss is sum of model prediction loss + L1 loss\n",
        "      loss += (regularizer_lambda * l1)\n",
        "\n",
        "    train_losses.append(loss)\n",
        "\n",
        "    # Backpropagation\n",
        "    loss.backward()\n",
        "    optimizer.step()\n",
        "\n",
        "    # Update pbar-tqdm\n",
        "    \n",
        "    pred = y_pred.argmax(dim=1, keepdim=True)  # get the index of the max log-probability\n",
        "    correct += pred.eq(target.view_as(pred)).sum().item()\n",
        "    processed += len(data)\n",
        "\n",
        "    pbar.set_description(desc= f'Loss={loss.item()} Batch_id={batch_idx} Accuracy={100*correct/processed:0.2f}')\n",
        "    train_acc.append(100*correct/processed)\n",
        "\n",
        "  return 100*correct/processed\n",
        "\n",
        "def test(model, device, test_loader):\n",
        "    model.eval()\n",
        "    test_loss = 0\n",
        "    correct = 0\n",
        "    with torch.no_grad():\n",
        "        for data, target in test_loader:\n",
        "            data, target = data.to(device), target.to(device)\n",
        "            output = model(data)\n",
        "            test_loss += F.nll_loss(output, target, reduction='sum').item()  # sum up batch loss\n",
        "            pred = output.argmax(dim=1, keepdim=True)  # get the index of the max log-probability\n",
        "            correct += pred.eq(target.view_as(pred)).sum().item()\n",
        "\n",
        "    test_loss /= len(test_loader.dataset)\n",
        "    test_losses.append(test_loss)\n",
        "\n",
        "    print('\\nTest set: Average loss: {:.4f}, Accuracy: {}/{} ({:.2f}%)\\n'.format(\n",
        "        test_loss, correct, len(test_loader.dataset),\n",
        "        100. * correct / len(test_loader.dataset)))\n",
        "    \n",
        "    test_acc.append(100. * correct / len(test_loader.dataset))\n",
        "\n",
        "    return 100. * correct / len(test_loader.dataset)\n"
      ],
      "execution_count": 21,
      "outputs": []
    },
    {
      "cell_type": "code",
      "source": [
        "# Invoke train & evaluate the model \n",
        "\n",
        "from torch.optim.lr_scheduler import StepLR\n",
        "\n",
        "def train_test_model(model, epochs=20):\n",
        "\n",
        "  # create an optimizer (SGD) with required parameters, \n",
        "  # model.parameters() - these are the model parameters to optimize, \n",
        "  # learning-rate lr=0.01 and momentum-0.9\n",
        "  optimizer = optim.SGD(model.parameters(), lr=0.05, momentum=0.9)\n",
        "  scheduler = StepLR(optimizer, step_size=6, gamma=0.5)\n",
        "\n",
        "  # Configure epochs to train for\n",
        "  EPOCHS = epochs\n",
        "\n",
        "  prev_train_acc = -1\n",
        "  prev_test_acc = -1\n",
        "  train_accuracy = 0\n",
        "  test_accuracy = 0\n",
        "\n",
        "  # run single epoch as of now.\n",
        "  for epoch in range(EPOCHS):\n",
        "      print(f'Epoch: {epoch+1}')\n",
        "\n",
        "      # train the model loaded on the device with the required optimizer\n",
        "      train_accuracy = train(model, device, train_loader, optimizer, epoch)\n",
        "\n",
        "      # set to the next lr params\n",
        "      scheduler.step()\n",
        "\n",
        "      # we need to evaluate on test data\n",
        "      test_accuracy = test(model, device, test_loader)\n",
        "\n",
        "\n",
        "      # check difference from previous accuracies for better understanding\n",
        "      if -1 == prev_train_acc:\n",
        "        prev_train_acc = train_accuracy\n",
        "      if -1 == prev_test_acc:\n",
        "        prev_test_acc = test_accuracy\n",
        "\n",
        "      print(f'train_acc_diff: {train_accuracy - prev_train_acc:.3f} test_acc_diff: {test_accuracy - prev_test_acc:.3f} test_train_diff: {test_accuracy - train_accuracy:.3f}\\n')\n",
        "      prev_train_acc = train_accuracy\n",
        "      prev_test_acc = test_accuracy\n",
        "\n",
        "  # update model metric\n",
        "  model_metric = [train_losses, test_losses, train_acc, test_acc]\n",
        "  return model_metric"
      ],
      "metadata": {
        "id": "SA2ZP1ryam3n"
      },
      "execution_count": 22,
      "outputs": []
    },
    {
      "cell_type": "code",
      "source": [
        "import copy\n",
        "\n",
        "# Check all model Summaries\n",
        "norm_options = [NormType.BATCH_NORM, NormType.LAYER_NORM, NormType.GROUP_NORM]\n",
        "norm_name = [\"BATCH_NORM\", \"LAYER_NORM\", \"GROUP_NORM\"]\n",
        "\n",
        "# evaluation metrics for different models\n",
        "evaluation_metrics = {}\n",
        "model_metric = []\n",
        "\n",
        "print(f\"\\nTrain & Evaluate different model\\n\")\n",
        "\n",
        "for ndx, norm in enumerate(norm_options):\n",
        "  \n",
        "  print(f\"\\nTrain & Test Model with NormalizationType => { norm }\\n\")\n",
        "  \n",
        "  # Create model instance with required params\n",
        "  model = Net(norm_type=norm).to(device)\n",
        "\n",
        "  train_losses = []\n",
        "  test_losses = []\n",
        "  train_acc = []\n",
        "  test_acc = []\n",
        "\n",
        "  model_metric = train_test_model(model, epochs=5)\n",
        "\n",
        "  evaluation_metrics[norm_name[ndx]] = model_metric"
      ],
      "metadata": {
        "colab": {
          "base_uri": "https://localhost:8080/"
        },
        "id": "gbX3McnfbGT1",
        "outputId": "26ee6b4c-a331-4021-bed6-4fd3f6018f76"
      },
      "execution_count": 23,
      "outputs": [
        {
          "output_type": "stream",
          "name": "stdout",
          "text": [
            "\n",
            "Train & Evaluate different model\n",
            "\n",
            "\n",
            "Train & Test Model with NormalizationType => NormType.BATCH_NORM\n",
            "\n",
            "Epoch: 1\n"
          ]
        },
        {
          "output_type": "stream",
          "name": "stderr",
          "text": [
            "Loss=0.08454345911741257 Batch_id=468 Accuracy=92.29: 100%|██████████| 469/469 [00:19<00:00, 23.59it/s]\n"
          ]
        },
        {
          "output_type": "stream",
          "name": "stdout",
          "text": [
            "\n",
            "Test set: Average loss: 0.0896, Accuracy: 9703/10000 (97.03%)\n",
            "\n",
            "train_acc_diff: 0.000 test_acc_diff: 0.000 test_train_diff: 4.738\n",
            "\n",
            "Epoch: 2\n"
          ]
        },
        {
          "output_type": "stream",
          "name": "stderr",
          "text": [
            "Loss=0.018272867426276207 Batch_id=468 Accuracy=97.80: 100%|██████████| 469/469 [00:21<00:00, 21.42it/s]\n"
          ]
        },
        {
          "output_type": "stream",
          "name": "stdout",
          "text": [
            "\n",
            "Test set: Average loss: 0.0478, Accuracy: 9836/10000 (98.36%)\n",
            "\n",
            "train_acc_diff: 5.505 test_acc_diff: 1.330 test_train_diff: 0.563\n",
            "\n",
            "Epoch: 3\n"
          ]
        },
        {
          "output_type": "stream",
          "name": "stderr",
          "text": [
            "Loss=0.052602723240852356 Batch_id=468 Accuracy=98.21: 100%|██████████| 469/469 [00:17<00:00, 26.74it/s]\n"
          ]
        },
        {
          "output_type": "stream",
          "name": "stdout",
          "text": [
            "\n",
            "Test set: Average loss: 0.0366, Accuracy: 9888/10000 (98.88%)\n",
            "\n",
            "train_acc_diff: 0.413 test_acc_diff: 0.520 test_train_diff: 0.670\n",
            "\n",
            "Epoch: 4\n"
          ]
        },
        {
          "output_type": "stream",
          "name": "stderr",
          "text": [
            "Loss=0.15689818561077118 Batch_id=468 Accuracy=98.43: 100%|██████████| 469/469 [00:17<00:00, 27.14it/s]\n"
          ]
        },
        {
          "output_type": "stream",
          "name": "stdout",
          "text": [
            "\n",
            "Test set: Average loss: 0.0416, Accuracy: 9859/10000 (98.59%)\n",
            "\n",
            "train_acc_diff: 0.218 test_acc_diff: -0.290 test_train_diff: 0.162\n",
            "\n",
            "Epoch: 5\n"
          ]
        },
        {
          "output_type": "stream",
          "name": "stderr",
          "text": [
            "Loss=0.059279054403305054 Batch_id=468 Accuracy=98.57: 100%|██████████| 469/469 [00:17<00:00, 26.87it/s]\n"
          ]
        },
        {
          "output_type": "stream",
          "name": "stdout",
          "text": [
            "\n",
            "Test set: Average loss: 0.0326, Accuracy: 9893/10000 (98.93%)\n",
            "\n",
            "train_acc_diff: 0.145 test_acc_diff: 0.340 test_train_diff: 0.357\n",
            "\n",
            "\n",
            "Train & Test Model with NormalizationType => NormType.LAYER_NORM\n",
            "\n",
            "Epoch: 1\n"
          ]
        },
        {
          "output_type": "stream",
          "name": "stderr",
          "text": [
            "Loss=0.08852225542068481 Batch_id=468 Accuracy=89.09: 100%|██████████| 469/469 [00:16<00:00, 27.67it/s]\n"
          ]
        },
        {
          "output_type": "stream",
          "name": "stdout",
          "text": [
            "\n",
            "Test set: Average loss: 0.0886, Accuracy: 9763/10000 (97.63%)\n",
            "\n",
            "train_acc_diff: 0.000 test_acc_diff: 0.000 test_train_diff: 8.538\n",
            "\n",
            "Epoch: 2\n"
          ]
        },
        {
          "output_type": "stream",
          "name": "stderr",
          "text": [
            "Loss=0.037077147513628006 Batch_id=468 Accuracy=97.39: 100%|██████████| 469/469 [00:18<00:00, 25.99it/s]\n"
          ]
        },
        {
          "output_type": "stream",
          "name": "stdout",
          "text": [
            "\n",
            "Test set: Average loss: 0.0470, Accuracy: 9876/10000 (98.76%)\n",
            "\n",
            "train_acc_diff: 8.297 test_acc_diff: 1.130 test_train_diff: 1.372\n",
            "\n",
            "Epoch: 3\n"
          ]
        },
        {
          "output_type": "stream",
          "name": "stderr",
          "text": [
            "Loss=0.059974029660224915 Batch_id=468 Accuracy=97.86: 100%|██████████| 469/469 [00:17<00:00, 27.52it/s]\n"
          ]
        },
        {
          "output_type": "stream",
          "name": "stdout",
          "text": [
            "\n",
            "Test set: Average loss: 0.0387, Accuracy: 9893/10000 (98.93%)\n",
            "\n",
            "train_acc_diff: 0.472 test_acc_diff: 0.170 test_train_diff: 1.070\n",
            "\n",
            "Epoch: 4\n"
          ]
        },
        {
          "output_type": "stream",
          "name": "stderr",
          "text": [
            "Loss=0.11643878370523453 Batch_id=468 Accuracy=98.20: 100%|██████████| 469/469 [00:17<00:00, 26.18it/s]\n"
          ]
        },
        {
          "output_type": "stream",
          "name": "stdout",
          "text": [
            "\n",
            "Test set: Average loss: 0.0438, Accuracy: 9865/10000 (98.65%)\n",
            "\n",
            "train_acc_diff: 0.337 test_acc_diff: -0.280 test_train_diff: 0.453\n",
            "\n",
            "Epoch: 5\n"
          ]
        },
        {
          "output_type": "stream",
          "name": "stderr",
          "text": [
            "Loss=0.03827355429530144 Batch_id=468 Accuracy=98.34: 100%|██████████| 469/469 [00:17<00:00, 27.17it/s]\n"
          ]
        },
        {
          "output_type": "stream",
          "name": "stdout",
          "text": [
            "\n",
            "Test set: Average loss: 0.0351, Accuracy: 9894/10000 (98.94%)\n",
            "\n",
            "train_acc_diff: 0.143 test_acc_diff: 0.290 test_train_diff: 0.600\n",
            "\n",
            "\n",
            "Train & Test Model with NormalizationType => NormType.GROUP_NORM\n",
            "\n",
            "Epoch: 1\n"
          ]
        },
        {
          "output_type": "stream",
          "name": "stderr",
          "text": [
            "Loss=0.05676254630088806 Batch_id=468 Accuracy=89.32: 100%|██████████| 469/469 [00:17<00:00, 26.75it/s]\n"
          ]
        },
        {
          "output_type": "stream",
          "name": "stdout",
          "text": [
            "\n",
            "Test set: Average loss: 0.0582, Accuracy: 9828/10000 (98.28%)\n",
            "\n",
            "train_acc_diff: 0.000 test_acc_diff: 0.000 test_train_diff: 8.958\n",
            "\n",
            "Epoch: 2\n"
          ]
        },
        {
          "output_type": "stream",
          "name": "stderr",
          "text": [
            "Loss=0.16071940958499908 Batch_id=468 Accuracy=97.24: 100%|██████████| 469/469 [00:17<00:00, 26.67it/s]\n"
          ]
        },
        {
          "output_type": "stream",
          "name": "stdout",
          "text": [
            "\n",
            "Test set: Average loss: 0.0544, Accuracy: 9821/10000 (98.21%)\n",
            "\n",
            "train_acc_diff: 7.918 test_acc_diff: -0.070 test_train_diff: 0.970\n",
            "\n",
            "Epoch: 3\n"
          ]
        },
        {
          "output_type": "stream",
          "name": "stderr",
          "text": [
            "Loss=0.010130700655281544 Batch_id=468 Accuracy=98.02: 100%|██████████| 469/469 [00:17<00:00, 26.96it/s]\n"
          ]
        },
        {
          "output_type": "stream",
          "name": "stdout",
          "text": [
            "\n",
            "Test set: Average loss: 0.0383, Accuracy: 9879/10000 (98.79%)\n",
            "\n",
            "train_acc_diff: 0.783 test_acc_diff: 0.580 test_train_diff: 0.767\n",
            "\n",
            "Epoch: 4\n"
          ]
        },
        {
          "output_type": "stream",
          "name": "stderr",
          "text": [
            "Loss=0.03040638379752636 Batch_id=468 Accuracy=98.10: 100%|██████████| 469/469 [00:16<00:00, 28.40it/s]\n"
          ]
        },
        {
          "output_type": "stream",
          "name": "stdout",
          "text": [
            "\n",
            "Test set: Average loss: 0.0346, Accuracy: 9880/10000 (98.80%)\n",
            "\n",
            "train_acc_diff: 0.077 test_acc_diff: 0.010 test_train_diff: 0.700\n",
            "\n",
            "Epoch: 5\n"
          ]
        },
        {
          "output_type": "stream",
          "name": "stderr",
          "text": [
            "Loss=0.06745727360248566 Batch_id=468 Accuracy=98.31: 100%|██████████| 469/469 [00:16<00:00, 28.05it/s]\n"
          ]
        },
        {
          "output_type": "stream",
          "name": "stdout",
          "text": [
            "\n",
            "Test set: Average loss: 0.0337, Accuracy: 9890/10000 (98.90%)\n",
            "\n",
            "train_acc_diff: 0.210 test_acc_diff: 0.100 test_train_diff: 0.590\n",
            "\n"
          ]
        }
      ]
    },
    {
      "cell_type": "markdown",
      "source": [
        "# Plot the model's learning progress\n",
        "\n",
        "- Plot training and test accuracies of all models"
      ],
      "metadata": {
        "id": "ohFyeQM14S4v"
      }
    },
    {
      "cell_type": "code",
      "source": [
        "%matplotlib inline\n",
        "import matplotlib.pyplot as plt\n",
        "\n",
        "plt.rcParams['figure.figsize'] = [15, 6]\n",
        "\n",
        "for name in norm_name:\n",
        "  \n",
        "  train_losses  = evaluation_metrics[name][0]\n",
        "  test_losses   = evaluation_metrics[name][1]\n",
        "  train_acc     = evaluation_metrics[name][2]\n",
        "  test_acc      = evaluation_metrics[name][3]\n",
        "\n",
        "  plt.subplot(2,2, 1)\n",
        "\n",
        "  plt.plot(test_acc)\n",
        "  plt.legend(norm_name)\n",
        "  plt.title(\"Test Accuracy\")\n",
        "\n",
        "  plt.xlabel('Epoch')\n",
        "  plt.ylabel('Accuracy')\n",
        "\n",
        "  plt.subplot(1,2,2)\n",
        "  plt.plot(test_losses)\n",
        "  plt.legend(norm_name)\n",
        "  plt.title('Test Loss')\n",
        "  plt.xlabel('Epoch')\n",
        "  plt.ylabel('Loss')\n"
      ],
      "metadata": {
        "id": "hXerw0vF4cVS",
        "colab": {
          "base_uri": "https://localhost:8080/",
          "height": 497
        },
        "outputId": "448809be-ef9b-45a3-e820-205d3ef5cd6e"
      },
      "execution_count": 24,
      "outputs": [
        {
          "output_type": "stream",
          "name": "stderr",
          "text": [
            "<ipython-input-24-d4840e90c6c3>:13: MatplotlibDeprecationWarning: Adding an axes using the same arguments as a previous axes currently reuses the earlier instance.  In a future version, a new instance will always be created and returned.  Meanwhile, this warning can be suppressed, and the future behavior ensured, by passing a unique label to each axes instance.\n",
            "  plt.subplot(2,2, 1)\n",
            "<ipython-input-24-d4840e90c6c3>:22: MatplotlibDeprecationWarning: Adding an axes using the same arguments as a previous axes currently reuses the earlier instance.  In a future version, a new instance will always be created and returned.  Meanwhile, this warning can be suppressed, and the future behavior ensured, by passing a unique label to each axes instance.\n",
            "  plt.subplot(1,2,2)\n"
          ]
        },
        {
          "output_type": "display_data",
          "data": {
            "text/plain": [
              "<Figure size 1080x432 with 2 Axes>"
            ],
            "image/png": "[encoded data removed]"
          },
          "metadata": {
            "needs_background": "light"
          }
        }
      ]
    },
    {
      "cell_type": "markdown",
      "source": [
        "# Move tesnors to numpy as required\n",
        "\n",
        "- train_losses is a list, but train_losses[i] is a tensor\n",
        "- all others are numpy\n",
        "\n",
        "## APIs to use\n",
        "\n",
        "- To go from np.array to cpu Tensor    => torch.from_numpy().\n",
        "- To go from cpu Tensor to gpu Tensor  => .cuda()\n",
        "- To go from a Tensor that requires_grad to one that does not => .detach() \n",
        "- To go from a gpu Tensor to cpu Tensor => .cpu()\n",
        "- To gp from a cpu Tensor to np.array   => .numpy()"
      ],
      "metadata": {
        "id": "RrWvGDmWjsNv"
      }
    },
    {
      "cell_type": "code",
      "source": [],
      "metadata": {
        "id": "55IDwQYrjsqy"
      },
      "execution_count": 24,
      "outputs": []
    }
  ]
}